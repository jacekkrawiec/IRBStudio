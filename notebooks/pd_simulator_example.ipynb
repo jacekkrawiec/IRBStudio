{
 "cells": [
  {
   "cell_type": "markdown",
   "id": "66ad8c55",
   "metadata": {},
   "source": [
    "# Example: Using the PD Simulator for Mortgage Portfolio\n",
    "\n",
    "This notebook demonstrates how to use the `pd_simulator.py` module from the `irbstudio.simulation` package to simulate Probability of Default (PD) for a mortgage portfolio.\n",
    "\n",
    "We will:\n",
    "1. Import required libraries\n",
    "2. Import the `pd_simulator` module\n",
    "3. Generate a realistic mortgage portfolio dataset (5000+ facilities with 36-month history)\n",
    "4. Run the simulation using the `pd_simulator` module\n",
    "5. Visualize the results"
   ]
  },
  {
   "cell_type": "markdown",
   "id": "6597563c",
   "metadata": {},
   "source": [
    "## 1. Import Required Libraries\n",
    "\n",
    "We will use pandas for data manipulation and matplotlib for visualization. If you want interactive plots, you can also use plotly."
   ]
  },
  {
   "cell_type": "code",
   "execution_count": 1,
   "id": "6e70ce92",
   "metadata": {},
   "outputs": [],
   "source": [
    "import pandas as pd\n",
    "import numpy as np\n",
    "import matplotlib.pyplot as plt\n",
    "# Optional: import plotly.express as px for interactive plots\n",
    "\n",
    "# Set matplotlib to display plots inline\n",
    "%matplotlib inline"
   ]
  },
  {
   "cell_type": "markdown",
   "id": "f6cf5889",
   "metadata": {},
   "source": [
    "## 2. Import pd_simulator Module\n",
    "\n",
    "We import the `pd_simulator` module from the `irbstudio.simulation` package. If running outside the package root, you may need to adjust the Python path."
   ]
  },
  {
   "cell_type": "code",
   "execution_count": 2,
   "id": "b5269c76",
   "metadata": {},
   "outputs": [],
   "source": [
    "from irbstudio.simulation import pd_simulator"
   ]
  },
  {
   "cell_type": "markdown",
   "id": "ddab77b0",
   "metadata": {},
   "source": [
    "## 4. Run PD Simulation\n",
    "\n",
    "Now we'll configure the PD simulation and run it using the `pd_simulator` module. We'll set up the simulation parameters based on our mortgage portfolio characteristics."
   ]
  },
  {
   "cell_type": "code",
   "execution_count": 6,
   "id": "c6d5fc20",
   "metadata": {},
   "outputs": [],
   "source": [
    "sample_portfolio = 'freddie_mac'  # Options: 'artificial', 'freddie_mac'\n",
    "\n",
    "# Define the score-to-rating boundaries based on the logic in sample_data.py\n",
    "# These are used to map the output `simulated_pd` back to a `simulated_rating`.\n",
    "# The keys are ratings, values are (lower_bound, upper_bound) of the PD.\n",
    "\n",
    "if sample_portfolio == 'artificial':\n",
    "    portfolio_df = pd.read_csv('../data/sample_portfolio_data.csv', parse_dates=['observation_date'])\n",
    "\n",
    "    score_to_rating_bounds = {\n",
    "        '1': (0.00, 0.001),\n",
    "        '2': (0.001, 0.005),\n",
    "        '3': (0.005, 0.01),\n",
    "        '4': (0.01, 0.03),\n",
    "        '5': (0.03, 0.10),\n",
    "        '6': (0.10, 0.15),\n",
    "        '7': (0.15, 0.25),\n",
    "        '8': (0.25, 0.40),\n",
    "        '9': (0.40, 1.60),\n",
    "    }\n",
    "    sorted_items = sorted(score_to_rating_bounds.items(), key=lambda x: x[1][0])\n",
    "    labels = [item[0] for item in sorted_items]\n",
    "    bounds = [item[1] for item in sorted_items]\n",
    "    # Flatten bounds to get bin edges\n",
    "    bin_edges = [bounds[0][0]] + [b[1] for b in bounds]\n",
    "    # pd.cut is right-exclusive by default, so this matches min <= x < max\n",
    "    ratings = pd.cut(portfolio_df['score'], bins=bin_edges, labels=labels, include_lowest=True, right=False)\n",
    "    # Handle edge case: if score == max of last bin, assign last label\n",
    "    last_max = bin_edges[-1]\n",
    "    ratings = ratings.astype(object)\n",
    "    ratings[portfolio_df['score'] == last_max] = labels[-1]\n",
    "    portfolio_df['rating_new'] = ratings\n",
    "\n",
    "    portfolio_df=portfolio_df\n",
    "    score_to_rating_bounds=score_to_rating_bounds\n",
    "    rating_col='rating_new'\n",
    "    loan_id_col='facility_id'\n",
    "    date_col='observation_date'\n",
    "    default_col='default_flag'\n",
    "    into_default_flag_col='into_default_flag'\n",
    "    score_col='score'\n",
    "    asset_correlation=0.15\n",
    "    target_auc=0.90\n",
    "\n",
    "elif sample_portfolio == 'freddie_mac':\n",
    "    # Freddie Mac score to rating mapping\n",
    "\n",
    "    rating_col='rating'\n",
    "    loan_id_col='Loan_Sequence_Number'\n",
    "    date_col='reporting_date'\n",
    "    default_col='default_flag'\n",
    "    into_default_flag_col='into_default_flag'\n",
    "    score_col='score'\n",
    "    \n",
    "\n",
    "    cols = [rating_col, loan_id_col, date_col, default_col, into_default_flag_col, score_col]\n",
    "    portfolio_df = pd.read_csv('../data/sample_portfolio_data_fm.csv', usecols=cols, parse_dates=[date_col])\n",
    "\n",
    "    score_to_rating_bounds = {'1': (-1,0.003613294451497495),\n",
    "        '2': (0.003613294451497495,0.005780360195785761),\n",
    "        '3': (0.005780360195785761,0.03225071728229523),\n",
    "        '4': (0.03225071728229523,0.039578670635819435),\n",
    "        '5': (0.039578670635819435,0.256146103143692),\n",
    "        '6': (0.256146103143692,0.7653337121009827),\n",
    "        '7': (0.7653337121009827,50)}\n",
    "\n",
    "    portfolio_df=portfolio_df\n",
    "    score_to_rating_bounds=score_to_rating_bounds\n",
    "    asset_correlation=0.15\n",
    "    target_auc=0.90"
   ]
  },
  {
   "cell_type": "code",
   "execution_count": 7,
   "id": "1585335d",
   "metadata": {},
   "outputs": [
    {
     "name": "stdout",
     "output_type": "stream",
     "text": [
      "Running PD simulation for the loaded portfolio...\n",
      "2025-09-18 10:56:29 - irbstudio.simulation.pd_simulator - INFO - Starting portfolio simulation.\n"
     ]
    },
    {
     "name": "stdout",
     "output_type": "stream",
     "text": [
      "2025-09-18 10:56:32 - irbstudio.simulation.pd_simulator - INFO - Segmenting portfolio into historical and application samples.\n",
      "2025-09-18 10:56:32 - irbstudio.simulation.pd_simulator - INFO - No application_start_date provided. Using default: 2024-04-01 00:00:00\n",
      "2025-09-18 10:56:34 - irbstudio.simulation.pd_simulator - INFO - Historical sample size: 6069488; Application sample size: 2593086\n",
      "2025-09-18 10:56:34 - irbstudio.simulation.pd_simulator - INFO - Segmenting application sample into new and existing clients.\n",
      "2025-09-18 10:56:35 - irbstudio.simulation.pd_simulator - INFO - Existing clients: 2266470, New clients: 326616\n",
      "2025-09-18 10:56:36 - irbstudio.simulation.pd_simulator - INFO - Fitting Beta Mixture Model to historical scores.\n",
      "2025-09-18 10:56:37 - irbstudio.simulation.distribution - INFO - Supervised fitting complete.\n",
      "2025-09-18 10:56:37 - irbstudio.simulation.distribution - INFO - Non-Default (C0): alpha=2.36, beta=431.43, weight=0.99\n",
      "2025-09-18 10:56:37 - irbstudio.simulation.distribution - INFO - Default (C1): alpha=0.34, beta=4.50, weight=0.01\n",
      "2025-09-18 10:56:37 - irbstudio.simulation.pd_simulator - INFO - Supervised fitting of Beta Mixture Model succeeded.\n",
      "2025-09-18 10:56:37 - irbstudio.simulation.pd_simulator - INFO - Generating idiosyncratic scores for historical sample.\n",
      "2025-09-18 10:56:37 - irbstudio.simulation.score_generation - INFO - Searching for gamma to achieve target AUC of 0.9...\n",
      "2025-09-18 10:56:37 - irbstudio.simulation.score_generation - INFO - Found calibrated gamma of 1.1260.\n",
      "2025-09-18 10:56:38 - irbstudio.simulation.pd_simulator - INFO - Inferring systemic risk factor from historical migrations.\n",
      "2025-09-18 10:56:41 - irbstudio.simulation.pd_simulator - INFO - Mapping simulated scores to ratings for historical sample.\n",
      "2025-09-18 10:56:42 - irbstudio.simulation.pd_simulator - INFO - Calculating migration matrix from historical simulated ratings.\n",
      "2025-09-18 10:56:45 - irbstudio.simulation.pd_simulator - INFO - Simulating new client scores and ratings.\n",
      "2025-09-18 10:56:47 - irbstudio.simulation.pd_simulator - INFO - Simulating existing client rating migrations.\n",
      "2025-09-18 10:56:57 - irbstudio.simulation.pd_simulator - INFO - Combining historical, new, and existing client simulations.\n",
      "2025-09-18 10:56:57 - irbstudio.simulation.pd_simulator - INFO - Calculating long-term average PD from historical simulated ratings.\n",
      "2025-09-18 10:57:00 - irbstudio.simulation.pd_simulator - INFO - Portfolio simulation completed in 30.23 seconds. Final sample size: 8711706\n"
     ]
    }
   ],
   "source": [
    "# Run the PD simulation using the actual pd_simulator module\n",
    "print(\"Running PD simulation for the loaded portfolio...\")\n",
    "\n",
    "if not portfolio_df.empty:\n",
    "    try:\n",
    "        result_df = pd_simulator.simulate_portfolio(\n",
    "            portfolio_df=portfolio_df,\n",
    "            score_to_rating_bounds=score_to_rating_bounds,\n",
    "            rating_col=rating_col,\n",
    "            loan_id_col=loan_id_col,\n",
    "            date_col=date_col,\n",
    "            default_col=default_col,\n",
    "            into_default_flag_col=into_default_flag_col,\n",
    "            score_col=score_col,\n",
    "            asset_correlation=asset_correlation,\n",
    "            target_auc=target_auc,  # Optional: target AUC for new client scores\n",
    "        )\n",
    "\n",
    "        # Display summary statistics\n",
    "        # print(f\"\\nTotal observations in simulation output: {len(result_df)}\")\n",
    "        # print(f\"Number of unique facilities: {result_df['facility_id'].nunique()}\")\n",
    "        # print(f\"Simulated date range: {result_df['observation_date'].min().date()} to {result_df['observation_date'].max().date()}\")\n",
    "        \n",
    "        # # Show a sample of the simulation results, including new columns\n",
    "        # print(\"\\nSample of simulation results:\")\n",
    "        # print(result_df[['facility_id', 'observation_date', 'rating', 'simulated_rating', 'simulated_pd']].head())\n",
    "\n",
    "    except Exception as e:\n",
    "        print(f\"\\nAn error occurred during simulation: {e}\")\n",
    "        print(\"Please ensure the `pd_simulator.py` module is correctly implemented and all required columns are present.\")\n",
    "        result_df = pd.DataFrame() # Create empty df to avoid breaking downstream cells\n",
    "else:\n",
    "    print(\"Portfolio DataFrame is empty. Skipping simulation.\")\n",
    "    result_df = pd.DataFrame()"
   ]
  },
  {
   "cell_type": "code",
   "execution_count": 8,
   "id": "e7217143",
   "metadata": {},
   "outputs": [
    {
     "data": {
      "text/html": [
       "<div>\n",
       "<style scoped>\n",
       "    .dataframe tbody tr th:only-of-type {\n",
       "        vertical-align: middle;\n",
       "    }\n",
       "\n",
       "    .dataframe tbody tr th {\n",
       "        vertical-align: top;\n",
       "    }\n",
       "\n",
       "    .dataframe thead th {\n",
       "        text-align: right;\n",
       "    }\n",
       "</style>\n",
       "<table border=\"1\" class=\"dataframe\">\n",
       "  <thead>\n",
       "    <tr style=\"text-align: right;\">\n",
       "      <th>simulated_rating</th>\n",
       "      <th>20</th>\n",
       "      <th>1</th>\n",
       "      <th>2</th>\n",
       "      <th>3</th>\n",
       "      <th>4</th>\n",
       "      <th>5</th>\n",
       "      <th>6</th>\n",
       "    </tr>\n",
       "    <tr>\n",
       "      <th>rating</th>\n",
       "      <th></th>\n",
       "      <th></th>\n",
       "      <th></th>\n",
       "      <th></th>\n",
       "      <th></th>\n",
       "      <th></th>\n",
       "      <th></th>\n",
       "    </tr>\n",
       "  </thead>\n",
       "  <tbody>\n",
       "    <tr>\n",
       "      <th>1</th>\n",
       "      <td>0.0</td>\n",
       "      <td>3486633.0</td>\n",
       "      <td>192846.0</td>\n",
       "      <td>48255.0</td>\n",
       "      <td>776.0</td>\n",
       "      <td>5565.0</td>\n",
       "      <td>952.0</td>\n",
       "    </tr>\n",
       "    <tr>\n",
       "      <th>2</th>\n",
       "      <td>0.0</td>\n",
       "      <td>2349635.0</td>\n",
       "      <td>137006.0</td>\n",
       "      <td>40812.0</td>\n",
       "      <td>645.0</td>\n",
       "      <td>5209.0</td>\n",
       "      <td>705.0</td>\n",
       "    </tr>\n",
       "    <tr>\n",
       "      <th>3</th>\n",
       "      <td>0.0</td>\n",
       "      <td>2085685.0</td>\n",
       "      <td>164018.0</td>\n",
       "      <td>56490.0</td>\n",
       "      <td>549.0</td>\n",
       "      <td>3918.0</td>\n",
       "      <td>756.0</td>\n",
       "    </tr>\n",
       "    <tr>\n",
       "      <th>4</th>\n",
       "      <td>0.0</td>\n",
       "      <td>22401.0</td>\n",
       "      <td>1896.0</td>\n",
       "      <td>892.0</td>\n",
       "      <td>23.0</td>\n",
       "      <td>40.0</td>\n",
       "      <td>5.0</td>\n",
       "    </tr>\n",
       "    <tr>\n",
       "      <th>5</th>\n",
       "      <td>0.0</td>\n",
       "      <td>35779.0</td>\n",
       "      <td>2936.0</td>\n",
       "      <td>1780.0</td>\n",
       "      <td>31.0</td>\n",
       "      <td>58.0</td>\n",
       "      <td>13.0</td>\n",
       "    </tr>\n",
       "    <tr>\n",
       "      <th>6</th>\n",
       "      <td>0.0</td>\n",
       "      <td>10692.0</td>\n",
       "      <td>2418.0</td>\n",
       "      <td>3029.0</td>\n",
       "      <td>10.0</td>\n",
       "      <td>30.0</td>\n",
       "      <td>8.0</td>\n",
       "    </tr>\n",
       "    <tr>\n",
       "      <th>7</th>\n",
       "      <td>0.0</td>\n",
       "      <td>71.0</td>\n",
       "      <td>2.0</td>\n",
       "      <td>5.0</td>\n",
       "      <td>0.0</td>\n",
       "      <td>0.0</td>\n",
       "      <td>0.0</td>\n",
       "    </tr>\n",
       "    <tr>\n",
       "      <th>20</th>\n",
       "      <td>49132.0</td>\n",
       "      <td>0.0</td>\n",
       "      <td>0.0</td>\n",
       "      <td>0.0</td>\n",
       "      <td>0.0</td>\n",
       "      <td>0.0</td>\n",
       "      <td>0.0</td>\n",
       "    </tr>\n",
       "  </tbody>\n",
       "</table>\n",
       "</div>"
      ],
      "text/plain": [
       "simulated_rating       20          1         2        3      4       5      6\n",
       "rating                                                                       \n",
       "1                     0.0  3486633.0  192846.0  48255.0  776.0  5565.0  952.0\n",
       "2                     0.0  2349635.0  137006.0  40812.0  645.0  5209.0  705.0\n",
       "3                     0.0  2085685.0  164018.0  56490.0  549.0  3918.0  756.0\n",
       "4                     0.0    22401.0    1896.0    892.0   23.0    40.0    5.0\n",
       "5                     0.0    35779.0    2936.0   1780.0   31.0    58.0   13.0\n",
       "6                     0.0    10692.0    2418.0   3029.0   10.0    30.0    8.0\n",
       "7                     0.0       71.0       2.0      5.0    0.0     0.0    0.0\n",
       "20                49132.0        0.0       0.0      0.0    0.0     0.0    0.0"
      ]
     },
     "execution_count": 8,
     "metadata": {},
     "output_type": "execute_result"
    }
   ],
   "source": [
    "result_df.groupby('rating')['simulated_rating'].value_counts().unstack().fillna(0).round(2)"
   ]
  },
  {
   "cell_type": "code",
   "execution_count": 9,
   "id": "1474dbcb",
   "metadata": {},
   "outputs": [],
   "source": [
    "check_df = result_df[result_df['into_default_flag'].notna()]\n",
    "check_df = check_df[check_df['default_flag'] == 0]\n",
    "check_df = check_df.loc[check_df[date_col] < pd.to_datetime('2024-04-30')]"
   ]
  },
  {
   "cell_type": "code",
   "execution_count": 10,
   "id": "1920fbf5",
   "metadata": {},
   "outputs": [
    {
     "data": {
      "text/plain": [
       "0.8966540991351004"
      ]
     },
     "execution_count": 10,
     "metadata": {},
     "output_type": "execute_result"
    }
   ],
   "source": [
    "from sklearn.metrics import roc_auc_score\n",
    "roc_auc_score(check_df['into_default_flag'], check_df['simulated_score'])"
   ]
  },
  {
   "cell_type": "code",
   "execution_count": 17,
   "id": "4d196a5e",
   "metadata": {},
   "outputs": [
    {
     "data": {
      "text/plain": [
       "<Axes: xlabel='simulated_rating', ylabel='Density'>"
      ]
     },
     "execution_count": 17,
     "metadata": {},
     "output_type": "execute_result"
    },
    {
     "data": {
      "image/png": "[encoded data removed]",
      "text/plain": [
       "<Figure size 1200x800 with 1 Axes>"
      ]
     },
     "metadata": {},
     "output_type": "display_data"
    }
   ],
   "source": [
    "import seaborn as sns\n",
    "import matplotlib.pyplot as plt\n",
    "\n",
    "sns.histplot(check_df, x = 'simulated_rating', hue='into_default_flag', stat='density', common_norm=False, bins=30)\n"
   ]
  },
  {
   "cell_type": "markdown",
   "id": "973c5571",
   "metadata": {},
   "source": [
    "## 5. Analyze and Visualize Simulation Results\n",
    "\n",
    "Let's analyze the key results from our mortgage portfolio simulation and create some useful visualizations."
   ]
  },
  {
   "cell_type": "code",
   "execution_count": 13,
   "id": "182fb5fe",
   "metadata": {},
   "outputs": [
    {
     "name": "stdout",
     "output_type": "stream",
     "text": [
      "Rating migration matrix (Original vs. Simulated):\n",
      "simulated_rating   20      1      2      3      4      5    6\n",
      "rating                                                       \n",
      "1                 0.0  0.931  0.052  0.015  0.000  0.001  0.0\n",
      "2                 0.0  0.923  0.055  0.019  0.000  0.002  0.0\n",
      "3                 0.0  0.877  0.086  0.035  0.000  0.002  0.0\n",
      "4                 0.0  0.839  0.112  0.047  0.001  0.001  0.0\n",
      "5                 0.0  0.873  0.080  0.044  0.000  0.003  0.0\n",
      "6                 0.0  0.869  0.082  0.047  0.002  0.000  0.0\n",
      "7                 0.0  1.000  0.000  0.000  0.000  0.000  0.0\n",
      "20                1.0  0.000  0.000  0.000  0.000  0.000  0.0\n",
      "\n",
      "Final simulated default rate: 0.0000 (0.00%)\n"
     ]
    }
   ],
   "source": [
    "# Perform basic analysis of simulation results, if the simulation was successful\n",
    "if not result_df.empty:\n",
    "    # Use the most recent simulated data for analysis\n",
    "    analysis_df = result_df.sort_values(date_col).groupby(loan_id_col).last().reset_index()\n",
    "\n",
    "    # 1. Analyze rating migration from original to simulated\n",
    "    migration_matrix = pd.crosstab(\n",
    "        analysis_df['rating'], \n",
    "        analysis_df['simulated_rating'],\n",
    "        normalize='index'\n",
    "    )\n",
    "\n",
    "    print(\"Rating migration matrix (Original vs. Simulated):\")\n",
    "    print(migration_matrix.round(3))\n",
    "\n",
    "\n",
    "\n",
    "    # 3. Summarize simulated portfolio quality\n",
    "    final_default_rate = (analysis_df['simulated_rating'] == 'D').mean()\n",
    "    print(f\"\\nFinal simulated default rate: {final_default_rate:.4f} ({final_default_rate*100:.2f}%)\")\n",
    "\n",
    "    # Prepare data for visualization\n",
    "    visualization_data = {\n",
    "        'migration_matrix': migration_matrix,\n",
    "        'rating_transitions': analysis_df[['rating', 'simulated_rating']],\n",
    "    }\n",
    "else:\n",
    "    print(\"Simulation did not produce results. Skipping analysis.\")\n",
    "    visualization_data = {}"
   ]
  },
  {
   "cell_type": "code",
   "execution_count": 14,
   "id": "ad030998",
   "metadata": {},
   "outputs": [
    {
     "ename": "UFuncTypeError",
     "evalue": "ufunc 'greater' did not contain a loop with signature matching types (<class 'numpy.dtypes.Int64DType'>, <class 'numpy.dtypes.StrDType'>) -> None",
     "output_type": "error",
     "traceback": [
      "\u001b[31m---------------------------------------------------------------------------\u001b[39m",
      "\u001b[31mUFuncTypeError\u001b[39m                            Traceback (most recent call last)",
      "\u001b[36mCell\u001b[39m\u001b[36m \u001b[39m\u001b[32mIn[14]\u001b[39m\u001b[32m, line 27\u001b[39m\n\u001b[32m     25\u001b[39m migration_matrix = visualization_data[\u001b[33m'\u001b[39m\u001b[33mmigration_matrix\u001b[39m\u001b[33m'\u001b[39m]\n\u001b[32m     26\u001b[39m row_ratings = sort_ratings(migration_matrix.index)\n\u001b[32m---> \u001b[39m\u001b[32m27\u001b[39m col_ratings = \u001b[43msort_ratings\u001b[49m\u001b[43m(\u001b[49m\u001b[43mmigration_matrix\u001b[49m\u001b[43m.\u001b[49m\u001b[43mcolumns\u001b[49m\u001b[43m)\u001b[49m\n\u001b[32m     28\u001b[39m sorted_matrix = migration_matrix.reindex(index=row_ratings, columns=col_ratings).fillna(\u001b[32m0\u001b[39m)\n\u001b[32m     30\u001b[39m sns.heatmap(sorted_matrix, cmap=cm, annot=\u001b[38;5;28;01mTrue\u001b[39;00m, fmt=\u001b[33m'\u001b[39m\u001b[33m.3f\u001b[39m\u001b[33m'\u001b[39m, \n\u001b[32m     31\u001b[39m             linewidths=\u001b[32m0.5\u001b[39m, ax=ax1, vmin=\u001b[32m0\u001b[39m, vmax=\u001b[32m1\u001b[39m, cbar_kws={\u001b[33m'\u001b[39m\u001b[33mlabel\u001b[39m\u001b[33m'\u001b[39m: \u001b[33m'\u001b[39m\u001b[33mTransition Probability\u001b[39m\u001b[33m'\u001b[39m})\n",
      "\u001b[36mCell\u001b[39m\u001b[36m \u001b[39m\u001b[32mIn[14]\u001b[39m\u001b[32m, line 22\u001b[39m, in \u001b[36msort_ratings\u001b[39m\u001b[34m(ratings)\u001b[39m\n\u001b[32m     21\u001b[39m \u001b[38;5;28;01mdef\u001b[39;00m\u001b[38;5;250m \u001b[39m\u001b[34msort_ratings\u001b[39m(ratings):\n\u001b[32m---> \u001b[39m\u001b[32m22\u001b[39m     numeric_ratings = \u001b[38;5;28;43msorted\u001b[39;49m\u001b[43m(\u001b[49m\u001b[43m[\u001b[49m\u001b[43mr\u001b[49m\u001b[43m \u001b[49m\u001b[38;5;28;43;01mfor\u001b[39;49;00m\u001b[43m \u001b[49m\u001b[43mr\u001b[49m\u001b[43m \u001b[49m\u001b[38;5;129;43;01min\u001b[39;49;00m\u001b[43m \u001b[49m\u001b[43mratings\u001b[49m\u001b[43m \u001b[49m\u001b[38;5;28;43;01mif\u001b[39;49;00m\u001b[43m \u001b[49m\u001b[43mr\u001b[49m\u001b[43m \u001b[49m\u001b[43m!=\u001b[49m\u001b[43m \u001b[49m\u001b[33;43m'\u001b[39;49m\u001b[33;43mD\u001b[39;49m\u001b[33;43m'\u001b[39;49m\u001b[43m]\u001b[49m\u001b[43m)\u001b[49m\n\u001b[32m     23\u001b[39m     \u001b[38;5;28;01mreturn\u001b[39;00m numeric_ratings + [\u001b[33m'\u001b[39m\u001b[33mD\u001b[39m\u001b[33m'\u001b[39m] \u001b[38;5;28;01mif\u001b[39;00m \u001b[33m'\u001b[39m\u001b[33mD\u001b[39m\u001b[33m'\u001b[39m \u001b[38;5;129;01min\u001b[39;00m ratings \u001b[38;5;28;01melse\u001b[39;00m numeric_ratings\n",
      "\u001b[31mUFuncTypeError\u001b[39m: ufunc 'greater' did not contain a loop with signature matching types (<class 'numpy.dtypes.Int64DType'>, <class 'numpy.dtypes.StrDType'>) -> None"
     ]
    },
    {
     "data": {
      "image/png": "[encoded data removed]",
      "text/plain": [
       "<Figure size 1600x1400 with 1 Axes>"
      ]
     },
     "metadata": {},
     "output_type": "display_data"
    }
   ],
   "source": [
    "import matplotlib.pyplot as plt\n",
    "import seaborn as sns\n",
    "from matplotlib.colors import LinearSegmentedColormap\n",
    "\n",
    "# Set up a more professional plot style\n",
    "plt.style.use('ggplot')\n",
    "sns.set_palette(\"viridis\")\n",
    "plt.rcParams['figure.figsize'] = [12, 8]\n",
    "plt.rcParams['font.size'] = 12\n",
    "\n",
    "if visualization_data:\n",
    "    # Create a figure with subplots for key visualizations\n",
    "    fig = plt.figure(figsize=(16, 14))\n",
    "    fig.suptitle('PD Simulation Results: Original vs. Simulated', fontsize=20)\n",
    "\n",
    "    # 1. Heatmap of migration matrix\n",
    "    ax1 = plt.subplot(2, 2, 1)\n",
    "    colors = [\"green\", \"white\", \"red\"]\n",
    "    cm = LinearSegmentedColormap.from_list(\"custom\", colors, N=100)\n",
    "\n",
    "    def sort_ratings(ratings):\n",
    "        numeric_ratings = sorted([r for r in ratings if r != 'D'])\n",
    "        return numeric_ratings + ['D'] if 'D' in ratings else numeric_ratings\n",
    "\n",
    "    migration_matrix = visualization_data['migration_matrix']\n",
    "    row_ratings = sort_ratings(migration_matrix.index)\n",
    "    col_ratings = sort_ratings(migration_matrix.columns)\n",
    "    sorted_matrix = migration_matrix.reindex(index=row_ratings, columns=col_ratings).fillna(0)\n",
    "\n",
    "    sns.heatmap(sorted_matrix, cmap=cm, annot=True, fmt='.3f', \n",
    "                linewidths=0.5, ax=ax1, vmin=0, vmax=1, cbar_kws={'label': 'Transition Probability'})\n",
    "    ax1.set_title('Rating Migration Matrix (Original to Simulated)')\n",
    "    ax1.set_xlabel('Simulated Rating')\n",
    "    ax1.set_ylabel('Original Rating')\n",
    "\n",
    "    # 2. Rating distribution before and after simulation\n",
    "    ax2 = plt.subplot(2, 2, 2)\n",
    "    rating_transitions = visualization_data['rating_transitions']\n",
    "    start_counts = rating_transitions['rating'].value_counts().sort_index()\n",
    "    end_counts = rating_transitions['simulated_rating'].value_counts().sort_index()\n",
    "    \n",
    "    rating_counts = pd.DataFrame({'Original': start_counts, 'Simulated': end_counts}).fillna(0)\n",
    "    sorted_ratings = sort_ratings(rating_counts.index)\n",
    "    rating_counts = rating_counts.reindex(sorted_ratings)\n",
    "\n",
    "    rating_counts.plot(kind='bar', ax=ax2)\n",
    "    ax2.set_title('Rating Distribution: Original vs. Simulated')\n",
    "    ax2.set_xlabel('Rating')\n",
    "    ax2.set_ylabel('Number of Facilities')\n",
    "    ax2.grid(True, alpha=0.3)\n",
    "\n",
    "    # 3. PD distribution comparison (violin plot)\n",
    "    ax3 = plt.subplot(2, 2, 3)\n",
    "\n",
    "    ax3.set_title('PD Distribution: Original vs. Simulated')\n",
    "    ax3.set_ylabel('Probability of Default (PD)')\n",
    "\n",
    "    # 4. PD comparison by original rating\n",
    "    ax4 = plt.subplot(2, 2, 4)\n",
    "    pd_full_comparison = analysis_df[['rating', 'simulated_pd']].copy()\n",
    "    \n",
    "    \n",
    "    ax4.set_title('PD by Original Rating')\n",
    "    ax4.set_xlabel('Original Rating')\n",
    "    ax4.set_ylabel('Probability of Default (PD)')\n",
    "    ax4.legend(title='PD Type')\n",
    "\n",
    "    plt.tight_layout(rect=[0, 0, 1, 0.96])\n",
    "    plt.show()\n",
    "\n",
    "else:\n",
    "    print(\"No data to visualize.\")"
   ]
  },
  {
   "cell_type": "markdown",
   "id": "82e75045",
   "metadata": {},
   "source": [
    "## Conclusion\n",
    "\n",
    "This example demonstrates how to use the PD simulator module to model default risk in a mortgage portfolio. The simulation provides valuable insights into:\n",
    "\n",
    "1. **Default Rates**: The monthly and cumulative default rates across different scenarios.\n",
    "\n",
    "2. **Rating Migration**: How mortgages transition between rating categories over time.\n",
    "\n",
    "3. **Risk Factors**: The relationship between LTV ratios and default probability.\n",
    "\n",
    "4. **Portfolio Quality**: Changes in the overall distribution of ratings from start to end.\n",
    "\n",
    "These insights can be used for:\n",
    "- Regulatory capital calculations\n",
    "- IFRS 9/CECL expected credit loss estimation\n",
    "- Stress testing\n",
    "- Mortgage portfolio risk management\n",
    "- Pricing and underwriting strategy\n",
    "\n",
    "By using the `pd_simulator` module, financial institutions can efficiently model credit risk in their mortgage portfolios without implementing complex simulation logic from scratch."
   ]
  },
  {
   "cell_type": "code",
   "execution_count": 50,
   "id": "764a85aa",
   "metadata": {},
   "outputs": [
    {
     "data": {
      "text/plain": [
       "(8711706, 11)"
      ]
     },
     "execution_count": 50,
     "metadata": {},
     "output_type": "execute_result"
    }
   ],
   "source": [
    "result_df.shape"
   ]
  },
  {
   "cell_type": "code",
   "execution_count": 51,
   "id": "c3cbc97a",
   "metadata": {},
   "outputs": [
    {
     "data": {
      "text/plain": [
       "(8015944, 11)"
      ]
     },
     "execution_count": 51,
     "metadata": {},
     "output_type": "execute_result"
    }
   ],
   "source": [
    "result_df.loc[result_df['score'] <= 0.01].shape"
   ]
  }
 ],
 "metadata": {
  "kernelspec": {
   "display_name": ".venv",
   "language": "python",
   "name": "python3"
  },
  "language_info": {
   "codemirror_mode": {
    "name": "ipython",
    "version": 3
   },
   "file_extension": ".py",
   "mimetype": "text/x-python",
   "name": "python",
   "nbconvert_exporter": "python",
   "pygments_lexer": "ipython3",
   "version": "3.13.7"
  }
 },
 "nbformat": 4,
 "nbformat_minor": 5
}
