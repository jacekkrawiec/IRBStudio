{
 "cells": [
  {
   "cell_type": "markdown",
   "id": "66ad8c55",
   "metadata": {},
   "source": [
    "# Example: Using the PD Simulator for Mortgage Portfolio\n",
    "\n",
    "This notebook demonstrates how to use the `pd_simulator.py` module from the `irbstudio.simulation` package to simulate Probability of Default (PD) for a mortgage portfolio.\n",
    "\n",
    "We will:\n",
    "1. Import required libraries\n",
    "2. Import the `pd_simulator` module\n",
    "3. Generate a realistic mortgage portfolio dataset (5000+ facilities with 36-month history)\n",
    "4. Run the simulation using the `pd_simulator` module\n",
    "5. Visualize the results"
   ]
  },
  {
   "cell_type": "markdown",
   "id": "6597563c",
   "metadata": {},
   "source": [
    "## 1. Import Required Libraries\n",
    "\n",
    "We will use pandas for data manipulation and matplotlib for visualization. If you want interactive plots, you can also use plotly."
   ]
  },
  {
   "cell_type": "code",
   "execution_count": 1,
   "id": "6e70ce92",
   "metadata": {},
   "outputs": [],
   "source": [
    "import pandas as pd\n",
    "import numpy as np\n",
    "import matplotlib.pyplot as plt\n",
    "# Optional: import plotly.express as px for interactive plots\n",
    "\n",
    "# Set matplotlib to display plots inline\n",
    "%matplotlib inline\n",
    "import cProfile\n",
    "import pstats"
   ]
  },
  {
   "cell_type": "markdown",
   "id": "f6cf5889",
   "metadata": {},
   "source": [
    "## 2. Import pd_simulator Module\n",
    "\n",
    "We import the `pd_simulator` module from the `irbstudio.simulation` package. If running outside the package root, you may need to adjust the Python path."
   ]
  },
  {
   "cell_type": "code",
   "execution_count": 2,
   "id": "b5269c76",
   "metadata": {},
   "outputs": [],
   "source": [
    "from irbstudio.simulation.portfolio_simulator import PortfolioSimulator"
   ]
  },
  {
   "cell_type": "markdown",
   "id": "ddab77b0",
   "metadata": {},
   "source": [
    "## 4. Run PD Simulation\n",
    "\n",
    "Now we'll configure the PD simulation and run it using the `pd_simulator` module. We'll set up the simulation parameters based on our mortgage portfolio characteristics."
   ]
  },
  {
   "cell_type": "code",
   "execution_count": 3,
   "id": "c6d5fc20",
   "metadata": {},
   "outputs": [],
   "source": [
    "sample_portfolio = 'freddie_mac'  # Options: 'artificial', 'freddie_mac'\n",
    "\n",
    "# Define the score-to-rating boundaries based on the logic in sample_data.py\n",
    "# These are used to map the output `simulated_pd` back to a `simulated_rating`.\n",
    "# The keys are ratings, values are (lower_bound, upper_bound) of the PD.\n",
    "\n",
    "if sample_portfolio == 'artificial':\n",
    "    portfolio_df = pd.read_csv('../data/sample_portfolio_data.csv', parse_dates=['observation_date'])\n",
    "\n",
    "    score_to_rating_bounds = {\n",
    "        '1': (0.00, 0.001),\n",
    "        '2': (0.001, 0.005),\n",
    "        '3': (0.005, 0.01),\n",
    "        '4': (0.01, 0.03),\n",
    "        '5': (0.03, 0.10),\n",
    "        '6': (0.10, 0.15),\n",
    "        '7': (0.15, 0.25),\n",
    "        '8': (0.25, 0.40),\n",
    "        '9': (0.40, 1.60),\n",
    "    }\n",
    "    sorted_items = sorted(score_to_rating_bounds.items(), key=lambda x: x[1][0])\n",
    "    labels = [item[0] for item in sorted_items]\n",
    "    bounds = [item[1] for item in sorted_items]\n",
    "    # Flatten bounds to get bin edges\n",
    "    bin_edges = [bounds[0][0]] + [b[1] for b in bounds]\n",
    "    # pd.cut is right-exclusive by default, so this matches min <= x < max\n",
    "    ratings = pd.cut(portfolio_df['score'], bins=bin_edges, labels=labels, include_lowest=True, right=False)\n",
    "    # Handle edge case: if score == max of last bin, assign last label\n",
    "    last_max = bin_edges[-1]\n",
    "    ratings = ratings.astype(object)\n",
    "    ratings[portfolio_df['score'] == last_max] = labels[-1]\n",
    "    portfolio_df['rating_new'] = ratings\n",
    "\n",
    "    portfolio_df=portfolio_df\n",
    "    score_to_rating_bounds=score_to_rating_bounds\n",
    "    rating_col='rating_new'\n",
    "    loan_id_col='facility_id'\n",
    "    date_col='observation_date'\n",
    "    default_col='default_flag'\n",
    "    into_default_flag_col='into_default_flag'\n",
    "    score_col='score'\n",
    "    asset_correlation=0.15\n",
    "    target_auc=0.90\n",
    "\n",
    "elif sample_portfolio == 'freddie_mac':\n",
    "    # Freddie Mac score to rating mapping\n",
    "\n",
    "    rating_col='rating'\n",
    "    loan_id_col='Loan_Sequence_Number'\n",
    "    date_col='reporting_date'\n",
    "    default_col='default_flag'\n",
    "    into_default_flag_col='into_default_flag'\n",
    "    score_col='score'\n",
    "    \n",
    "\n",
    "    cols = [rating_col, loan_id_col, date_col, default_col, into_default_flag_col, score_col]\n",
    "    portfolio_df = pd.read_csv('../data/sample_portfolio_data_fm.csv', usecols=cols, parse_dates=[date_col])\n",
    "\n",
    "    score_to_rating_bounds = {'1': (-1,0.003613294451497495),\n",
    "        '2': (0.003613294451497495,0.005780360195785761),\n",
    "        '3': (0.005780360195785761,0.03225071728229523),\n",
    "        '4': (0.03225071728229523,0.039578670635819435),\n",
    "        '5': (0.039578670635819435,0.256146103143692),\n",
    "        '6': (0.256146103143692,0.7653337121009827),\n",
    "        '7': (0.7653337121009827,50)}\n",
    "\n",
    "    portfolio_df=portfolio_df\n",
    "    score_to_rating_bounds=score_to_rating_bounds\n",
    "    asset_correlation=0.15\n",
    "    target_auc=0.90"
   ]
  },
  {
   "cell_type": "code",
   "execution_count": 4,
   "id": "1ea9d723",
   "metadata": {},
   "outputs": [],
   "source": [
    "# example usage of OOP portfolio simulator\n",
    "from datetime import datetime\n",
    "simulator = PortfolioSimulator(\n",
    "    portfolio_df=portfolio_df,\n",
    "    score_to_rating_bounds=score_to_rating_bounds,\n",
    "    rating_col=rating_col,\n",
    "    loan_id_col=loan_id_col,\n",
    "    date_col=date_col,\n",
    "    default_col=default_col,\n",
    "    into_default_flag_col=into_default_flag_col,\n",
    "    score_col=score_col,\n",
    "    application_start_date=datetime(2024,4,1),\n",
    "    asset_correlation=asset_correlation,\n",
    "    exposure_col=None,\n",
    "    target_auc=target_auc,\n",
    "    random_seed=None\n",
    ")"
   ]
  },
  {
   "cell_type": "code",
   "execution_count": 24,
   "id": "318ccff2",
   "metadata": {},
   "outputs": [
    {
     "name": "stdout",
     "output_type": "stream",
     "text": [
      "2025-09-29 10:30:57 - irbstudio.simulation.portfolio_simulator - INFO - Starting portfolio simulation preparation.\n",
      "2025-09-29 10:30:57 - irbstudio.simulation.portfolio_simulator - INFO - Segmenting portfolio into historical and application samples.\n",
      "2025-09-29 10:30:59 - irbstudio.simulation.portfolio_simulator - INFO - Historical sample size: 6069488; Application sample size: 2593086\n",
      "2025-09-29 10:30:59 - irbstudio.simulation.portfolio_simulator - INFO - Segmenting application sample into new and existing clients.\n",
      "2025-09-29 10:31:01 - irbstudio.simulation.portfolio_simulator - INFO - Existing clients: 2266470, New clients: 326616\n",
      "2025-09-29 10:31:01 - irbstudio.simulation.portfolio_simulator - INFO - Fitting Beta Mixture Model to historical scores.\n",
      "2025-09-29 10:31:02 - irbstudio.simulation.distribution - INFO - Supervised fitting complete.\n",
      "2025-09-29 10:31:02 - irbstudio.simulation.distribution - INFO - Non-Default (C0): alpha=2.36, beta=431.43, weight=0.99\n",
      "2025-09-29 10:31:02 - irbstudio.simulation.distribution - INFO - Default (C1): alpha=0.34, beta=4.50, weight=0.01\n",
      "2025-09-29 10:31:02 - irbstudio.simulation.portfolio_simulator - INFO - Supervised fitting of Beta Mixture Model succeeded.\n",
      "2025-09-29 10:31:02 - irbstudio.simulation.score_generation - INFO - Searching for gamma to achieve target AUC of 0.9...\n",
      "2025-09-29 10:31:02 - irbstudio.simulation.score_generation - INFO - Found calibrated gamma of 1.1263.\n",
      "2025-09-29 10:31:02 - irbstudio.simulation.portfolio_simulator - INFO - Inferring systemic risk factor from historical migrations.\n",
      "2025-09-29 10:31:04 - irbstudio.simulation.portfolio_simulator - INFO - Calculating long-term average PD from observed ratings.\n",
      "2025-09-29 10:31:04 - irbstudio.simulation.portfolio_simulator - INFO - Portfolio simulation preparation completed in 6.74 seconds.\n",
      "2025-09-29 10:31:04 - irbstudio.simulation.portfolio_simulator - INFO - Starting Monte Carlo simulation with 1 iterations.\n",
      "2025-09-29 10:31:04 - irbstudio.simulation.portfolio_simulator - INFO - Running Monte Carlo iteration 1/1\n",
      "2025-09-29 10:31:04 - irbstudio.simulation.portfolio_simulator - INFO - Starting portfolio simulation iteration.\n",
      "2025-09-29 10:31:04 - irbstudio.simulation.portfolio_simulator - INFO - Generating idiosyncratic scores for historical sample.\n",
      "2025-09-29 10:31:07 - irbstudio.simulation.portfolio_simulator - INFO - Mapping simulated scores to ratings for historical sample.\n",
      "2025-09-29 10:31:07 - irbstudio.simulation.portfolio_simulator - INFO - Calculating migration matrix from historical simulated ratings.\n",
      "2025-09-29 10:31:08 - irbstudio.simulation.portfolio_simulator - INFO - Calculating long-term average PD from simulated ratings.\n",
      "2025-09-29 10:31:08 - irbstudio.simulation.portfolio_simulator - INFO - Simulating new client scores and ratings.\n",
      "2025-09-29 10:31:09 - irbstudio.simulation.portfolio_simulator - INFO - Simulating existing client rating migrations.\n",
      "2025-09-29 10:31:15 - irbstudio.simulation.portfolio_simulator - INFO - Portfolio simulation iteration completed in 10.90 seconds. Final sample size: 8711706\n",
      "2025-09-29 10:31:15 - irbstudio.simulation.portfolio_simulator - INFO - Monte Carlo simulation completed in 10.94 seconds. Average time per iteration: 10.94 seconds.\n",
      "         3802668 function calls (3800987 primitive calls) in 17.703 seconds\n",
      "\n",
      "   Ordered by: cumulative time\n",
      "   List reduced from 1570 to 30 due to restriction <30>\n",
      "\n",
      "   ncalls  tottime  percall  cumtime  percall filename:lineno(function)\n",
      "      122    1.101    0.009   19.356    0.159 {built-in method select.select}\n",
      "        3    0.021    0.007   17.890    5.963 {built-in method builtins.exec}\n",
      "      121    0.214    0.002   12.826    0.106 C:\\Users\\jacek\\AppData\\Local\\Programs\\Python\\Python313\\Lib\\asyncio\\base_events.py:1970(_run_once)\n",
      "       26    0.027    0.001    6.637    0.255 C:\\Users\\jacek\\AppData\\Local\\Programs\\Python\\Python313\\Lib\\logging\\__init__.py:1510(info)\n",
      "        1    0.000    0.000    6.376    6.376 C:\\Users\\jacek\\Desktop\\Projects\\IRBStudio\\irbstudio\\simulation\\portfolio_simulator.py:232(run_monte_carlo)\n",
      "      121    0.528    0.004    5.765    0.048 C:\\Users\\jacek\\AppData\\Local\\Programs\\Python\\Python313\\Lib\\selectors.py:310(select)\n",
      "        2    2.614    1.307    4.624    2.312 C:\\Users\\jacek\\Desktop\\Projects\\IRBStudio\\irbstudio\\simulation\\portfolio_simulator.py:703(_apply_migrations_optimized)\n",
      "        1    0.055    0.055    4.488    4.488 C:\\Users\\jacek\\Desktop\\Projects\\IRBStudio\\irbstudio\\simulation\\portfolio_simulator.py:491(_simulate_existing_clients)\n",
      "      129    0.001    0.000    2.715    0.021 C:\\Users\\jacek\\AppData\\Local\\Programs\\Python\\Python313\\Lib\\asyncio\\events.py:87(_run)\n",
      "      129    0.168    0.001    2.706    0.021 {method 'run' of '_contextvars.Context' objects}\n",
      "    85/80    0.002    0.000    1.855    0.023 c:\\Users\\jacek\\Desktop\\Projects\\IRBStudio\\.venv\\Lib\\site-packages\\pandas\\core\\array_algos\\take.py:59(take_nd)\n",
      "       79    1.515    0.019    1.816    0.023 c:\\Users\\jacek\\Desktop\\Projects\\IRBStudio\\.venv\\Lib\\site-packages\\pandas\\core\\array_algos\\take.py:120(_take_nd_ndarray)\n",
      "        7    0.010    0.001    1.771    0.253 c:\\Users\\jacek\\Desktop\\Projects\\IRBStudio\\.venv\\Lib\\site-packages\\pandas\\core\\groupby\\ops.py:743(group_info)\n",
      "      121    0.008    0.000    1.763    0.015 C:\\Users\\jacek\\AppData\\Local\\Programs\\Python\\Python313\\Lib\\selectors.py:304(_select)\n",
      "        7    0.003    0.000    1.761    0.252 c:\\Users\\jacek\\Desktop\\Projects\\IRBStudio\\.venv\\Lib\\site-packages\\pandas\\core\\groupby\\ops.py:758(_get_compressed_codes)\n",
      "       20    0.001    0.000    1.562    0.078 c:\\Users\\jacek\\Desktop\\Projects\\IRBStudio\\.venv\\Lib\\site-packages\\pandas\\core\\internals\\managers.py:623(reindex_indexer)\n",
      "        1    0.030    0.030    1.551    1.551 C:\\Users\\jacek\\Desktop\\Projects\\IRBStudio\\irbstudio\\simulation\\portfolio_simulator.py:555(_infer_systemic_factor)\n",
      "       40    0.001    0.000    1.549    0.039 c:\\Users\\jacek\\Desktop\\Projects\\IRBStudio\\.venv\\Lib\\site-packages\\pandas\\core\\internals\\blocks.py:1353(take_nd)\n",
      "       13    0.000    0.000    1.467    0.113 c:\\Users\\jacek\\Desktop\\Projects\\IRBStudio\\.venv\\Lib\\site-packages\\pandas\\core\\generic.py:4161(_take_with_is_copy)\n",
      "       13    0.000    0.000    1.467    0.113 c:\\Users\\jacek\\Desktop\\Projects\\IRBStudio\\.venv\\Lib\\site-packages\\pandas\\core\\generic.py:4046(take)\n",
      "       13    0.002    0.000    1.466    0.113 c:\\Users\\jacek\\Desktop\\Projects\\IRBStudio\\.venv\\Lib\\site-packages\\pandas\\core\\internals\\managers.py:869(take)\n",
      "        9    0.000    0.000    1.458    0.162 c:\\Users\\jacek\\Desktop\\Projects\\IRBStudio\\.venv\\Lib\\site-packages\\pandas\\core\\series.py:4631(map)\n",
      "        9    0.031    0.003    1.445    0.161 c:\\Users\\jacek\\Desktop\\Projects\\IRBStudio\\.venv\\Lib\\site-packages\\pandas\\core\\base.py:895(_map_values)\n",
      "        9    0.000    0.000    1.411    0.157 c:\\Users\\jacek\\Desktop\\Projects\\IRBStudio\\.venv\\Lib\\site-packages\\pandas\\core\\algorithms.py:1667(map_array)\n",
      "        1    0.102    0.102    1.320    1.320 C:\\Users\\jacek\\Desktop\\Projects\\IRBStudio\\irbstudio\\simulation\\portfolio_simulator.py:266(_segment_portfolio)\n",
      "       80    0.008    0.000    1.319    0.016 c:\\Users\\jacek\\Desktop\\Projects\\IRBStudio\\.venv\\Lib\\site-packages\\pandas\\core\\frame.py:4067(__getitem__)\n",
      "    13/11    0.036    0.003    1.305    0.119 c:\\Users\\jacek\\Desktop\\Projects\\IRBStudio\\.venv\\Lib\\site-packages\\pandas\\core\\algorithms.py:610(factorize)\n",
      "       16    0.000    0.000    1.269    0.079 c:\\Users\\jacek\\Desktop\\Projects\\IRBStudio\\.venv\\Lib\\site-packages\\pandas\\core\\groupby\\grouper.py:689(codes)\n",
      "       10    0.000    0.000    1.269    0.127 c:\\Users\\jacek\\Desktop\\Projects\\IRBStudio\\.venv\\Lib\\site-packages\\pandas\\core\\groupby\\grouper.py:777(_codes_and_uniques)\n",
      "       28    0.000    0.000    1.151    0.041 c:\\Users\\jacek\\Desktop\\Projects\\IRBStudio\\.venv\\Lib\\site-packages\\pandas\\core\\indexes\\base.py:3827(get_indexer)\n",
      "\n",
      "\n"
     ]
    },
    {
     "data": {
      "text/plain": [
       "<pstats.Stats at 0x221b48f8cd0>"
      ]
     },
     "execution_count": 24,
     "metadata": {},
     "output_type": "execute_result"
    }
   ],
   "source": [
    "profiler = cProfile.Profile()\n",
    "profiler.enable()\n",
    "simulator.prepare_simulation()\n",
    "simulator.run_monte_carlo(num_iterations=1)\n",
    "profiler.disable()\n",
    "stats = pstats.Stats(profiler).sort_stats('cumtime')\n",
    "stats.print_stats(30)  # Print top 10 functions by cumulative time"
   ]
  },
  {
   "cell_type": "code",
   "execution_count": 25,
   "id": "157a826b",
   "metadata": {},
   "outputs": [
    {
     "name": "stdout",
     "output_type": "stream",
     "text": [
      "         3802668 function calls (3800987 primitive calls) in 17.703 seconds\n",
      "\n",
      "   Ordered by: cumulative time\n",
      "   List reduced from 1570 to 30 due to restriction <30>\n",
      "\n",
      "   ncalls  tottime  percall  cumtime  percall filename:lineno(function)\n",
      "      122    1.101    0.009   19.356    0.159 {built-in method select.select}\n",
      "        3    0.021    0.007   17.890    5.963 {built-in method builtins.exec}\n",
      "      121    0.214    0.002   12.826    0.106 C:\\Users\\jacek\\AppData\\Local\\Programs\\Python\\Python313\\Lib\\asyncio\\base_events.py:1970(_run_once)\n",
      "       26    0.027    0.001    6.637    0.255 C:\\Users\\jacek\\AppData\\Local\\Programs\\Python\\Python313\\Lib\\logging\\__init__.py:1510(info)\n",
      "        1    0.000    0.000    6.376    6.376 C:\\Users\\jacek\\Desktop\\Projects\\IRBStudio\\irbstudio\\simulation\\portfolio_simulator.py:232(run_monte_carlo)\n",
      "      121    0.528    0.004    5.765    0.048 C:\\Users\\jacek\\AppData\\Local\\Programs\\Python\\Python313\\Lib\\selectors.py:310(select)\n",
      "        2    2.614    1.307    4.624    2.312 C:\\Users\\jacek\\Desktop\\Projects\\IRBStudio\\irbstudio\\simulation\\portfolio_simulator.py:703(_apply_migrations_optimized)\n",
      "        1    0.055    0.055    4.488    4.488 C:\\Users\\jacek\\Desktop\\Projects\\IRBStudio\\irbstudio\\simulation\\portfolio_simulator.py:491(_simulate_existing_clients)\n",
      "      129    0.001    0.000    2.715    0.021 C:\\Users\\jacek\\AppData\\Local\\Programs\\Python\\Python313\\Lib\\asyncio\\events.py:87(_run)\n",
      "      129    0.168    0.001    2.706    0.021 {method 'run' of '_contextvars.Context' objects}\n",
      "    85/80    0.002    0.000    1.855    0.023 c:\\Users\\jacek\\Desktop\\Projects\\IRBStudio\\.venv\\Lib\\site-packages\\pandas\\core\\array_algos\\take.py:59(take_nd)\n",
      "       79    1.515    0.019    1.816    0.023 c:\\Users\\jacek\\Desktop\\Projects\\IRBStudio\\.venv\\Lib\\site-packages\\pandas\\core\\array_algos\\take.py:120(_take_nd_ndarray)\n",
      "        7    0.010    0.001    1.771    0.253 c:\\Users\\jacek\\Desktop\\Projects\\IRBStudio\\.venv\\Lib\\site-packages\\pandas\\core\\groupby\\ops.py:743(group_info)\n",
      "      121    0.008    0.000    1.763    0.015 C:\\Users\\jacek\\AppData\\Local\\Programs\\Python\\Python313\\Lib\\selectors.py:304(_select)\n",
      "        7    0.003    0.000    1.761    0.252 c:\\Users\\jacek\\Desktop\\Projects\\IRBStudio\\.venv\\Lib\\site-packages\\pandas\\core\\groupby\\ops.py:758(_get_compressed_codes)\n",
      "       20    0.001    0.000    1.562    0.078 c:\\Users\\jacek\\Desktop\\Projects\\IRBStudio\\.venv\\Lib\\site-packages\\pandas\\core\\internals\\managers.py:623(reindex_indexer)\n",
      "        1    0.030    0.030    1.551    1.551 C:\\Users\\jacek\\Desktop\\Projects\\IRBStudio\\irbstudio\\simulation\\portfolio_simulator.py:555(_infer_systemic_factor)\n",
      "       40    0.001    0.000    1.549    0.039 c:\\Users\\jacek\\Desktop\\Projects\\IRBStudio\\.venv\\Lib\\site-packages\\pandas\\core\\internals\\blocks.py:1353(take_nd)\n",
      "       13    0.000    0.000    1.467    0.113 c:\\Users\\jacek\\Desktop\\Projects\\IRBStudio\\.venv\\Lib\\site-packages\\pandas\\core\\generic.py:4161(_take_with_is_copy)\n",
      "       13    0.000    0.000    1.467    0.113 c:\\Users\\jacek\\Desktop\\Projects\\IRBStudio\\.venv\\Lib\\site-packages\\pandas\\core\\generic.py:4046(take)\n",
      "       13    0.002    0.000    1.466    0.113 c:\\Users\\jacek\\Desktop\\Projects\\IRBStudio\\.venv\\Lib\\site-packages\\pandas\\core\\internals\\managers.py:869(take)\n",
      "        9    0.000    0.000    1.458    0.162 c:\\Users\\jacek\\Desktop\\Projects\\IRBStudio\\.venv\\Lib\\site-packages\\pandas\\core\\series.py:4631(map)\n",
      "        9    0.031    0.003    1.445    0.161 c:\\Users\\jacek\\Desktop\\Projects\\IRBStudio\\.venv\\Lib\\site-packages\\pandas\\core\\base.py:895(_map_values)\n",
      "        9    0.000    0.000    1.411    0.157 c:\\Users\\jacek\\Desktop\\Projects\\IRBStudio\\.venv\\Lib\\site-packages\\pandas\\core\\algorithms.py:1667(map_array)\n",
      "        1    0.102    0.102    1.320    1.320 C:\\Users\\jacek\\Desktop\\Projects\\IRBStudio\\irbstudio\\simulation\\portfolio_simulator.py:266(_segment_portfolio)\n",
      "       80    0.008    0.000    1.319    0.016 c:\\Users\\jacek\\Desktop\\Projects\\IRBStudio\\.venv\\Lib\\site-packages\\pandas\\core\\frame.py:4067(__getitem__)\n",
      "    13/11    0.036    0.003    1.305    0.119 c:\\Users\\jacek\\Desktop\\Projects\\IRBStudio\\.venv\\Lib\\site-packages\\pandas\\core\\algorithms.py:610(factorize)\n",
      "       16    0.000    0.000    1.269    0.079 c:\\Users\\jacek\\Desktop\\Projects\\IRBStudio\\.venv\\Lib\\site-packages\\pandas\\core\\groupby\\grouper.py:689(codes)\n",
      "       10    0.000    0.000    1.269    0.127 c:\\Users\\jacek\\Desktop\\Projects\\IRBStudio\\.venv\\Lib\\site-packages\\pandas\\core\\groupby\\grouper.py:777(_codes_and_uniques)\n",
      "       28    0.000    0.000    1.151    0.041 c:\\Users\\jacek\\Desktop\\Projects\\IRBStudio\\.venv\\Lib\\site-packages\\pandas\\core\\indexes\\base.py:3827(get_indexer)\n",
      "\n",
      "\n"
     ]
    },
    {
     "data": {
      "text/plain": [
       "<pstats.Stats at 0x221b48f8cd0>"
      ]
     },
     "execution_count": 25,
     "metadata": {},
     "output_type": "execute_result"
    }
   ],
   "source": [
    "stats.print_stats(30)"
   ]
  },
  {
   "cell_type": "code",
   "execution_count": 14,
   "id": "d0e19dab",
   "metadata": {},
   "outputs": [
    {
     "data": {
      "text/plain": [
       "Loan_Sequence_Number\n",
       "F19Q10000056    1\n",
       "F19Q10000060    1\n",
       "F19Q10000084    1\n",
       "F19Q10000106    1\n",
       "F19Q10000189    1\n",
       "               ..\n",
       "F24Q10198858    1\n",
       "F24Q10199679    1\n",
       "F24Q10200336    1\n",
       "F24Q10200429    1\n",
       "F24Q10203294    1\n",
       "Name: simulated_rating, Length: 237189, dtype: object"
      ]
     },
     "execution_count": 14,
     "metadata": {},
     "output_type": "execute_result"
    }
   ],
   "source": [
    "last_historical_ratings"
   ]
  },
  {
   "cell_type": "code",
   "execution_count": null,
   "id": "70bc5fa4",
   "metadata": {},
   "outputs": [
    {
     "data": {
      "text/html": [
       "<div>\n",
       "<style scoped>\n",
       "    .dataframe tbody tr th:only-of-type {\n",
       "        vertical-align: middle;\n",
       "    }\n",
       "\n",
       "    .dataframe tbody tr th {\n",
       "        vertical-align: top;\n",
       "    }\n",
       "\n",
       "    .dataframe thead th {\n",
       "        text-align: right;\n",
       "    }\n",
       "</style>\n",
       "<table border=\"1\" class=\"dataframe\">\n",
       "  <thead>\n",
       "    <tr style=\"text-align: right;\">\n",
       "      <th></th>\n",
       "      <th>simulated_rating</th>\n",
       "    </tr>\n",
       "    <tr>\n",
       "      <th>Loan_Sequence_Number</th>\n",
       "      <th></th>\n",
       "    </tr>\n",
       "  </thead>\n",
       "  <tbody>\n",
       "    <tr>\n",
       "      <th>F19Q10000056</th>\n",
       "      <td>1</td>\n",
       "    </tr>\n",
       "    <tr>\n",
       "      <th>F19Q10000060</th>\n",
       "      <td>1</td>\n",
       "    </tr>\n",
       "    <tr>\n",
       "      <th>F19Q10000084</th>\n",
       "      <td>1</td>\n",
       "    </tr>\n",
       "    <tr>\n",
       "      <th>F19Q10000106</th>\n",
       "      <td>1</td>\n",
       "    </tr>\n",
       "    <tr>\n",
       "      <th>F19Q10000189</th>\n",
       "      <td>1</td>\n",
       "    </tr>\n",
       "    <tr>\n",
       "      <th>...</th>\n",
       "      <td>...</td>\n",
       "    </tr>\n",
       "    <tr>\n",
       "      <th>F24Q10198858</th>\n",
       "      <td>1</td>\n",
       "    </tr>\n",
       "    <tr>\n",
       "      <th>F24Q10199679</th>\n",
       "      <td>1</td>\n",
       "    </tr>\n",
       "    <tr>\n",
       "      <th>F24Q10200336</th>\n",
       "      <td>1</td>\n",
       "    </tr>\n",
       "    <tr>\n",
       "      <th>F24Q10200429</th>\n",
       "      <td>1</td>\n",
       "    </tr>\n",
       "    <tr>\n",
       "      <th>F24Q10203294</th>\n",
       "      <td>1</td>\n",
       "    </tr>\n",
       "  </tbody>\n",
       "</table>\n",
       "<p>237189 rows × 1 columns</p>\n",
       "</div>"
      ],
      "text/plain": [
       "                     simulated_rating\n",
       "Loan_Sequence_Number                 \n",
       "F19Q10000056                        1\n",
       "F19Q10000060                        1\n",
       "F19Q10000084                        1\n",
       "F19Q10000106                        1\n",
       "F19Q10000189                        1\n",
       "...                               ...\n",
       "F24Q10198858                        1\n",
       "F24Q10199679                        1\n",
       "F24Q10200336                        1\n",
       "F24Q10200429                        1\n",
       "F24Q10203294                        1\n",
       "\n",
       "[237189 rows x 1 columns]"
      ]
     },
     "execution_count": 16,
     "metadata": {},
     "output_type": "execute_result"
    }
   ],
   "source": []
  },
  {
   "cell_type": "code",
   "execution_count": 19,
   "id": "e7217143",
   "metadata": {},
   "outputs": [
    {
     "data": {
      "text/html": [
       "<div>\n",
       "<style scoped>\n",
       "    .dataframe tbody tr th:only-of-type {\n",
       "        vertical-align: middle;\n",
       "    }\n",
       "\n",
       "    .dataframe tbody tr th {\n",
       "        vertical-align: top;\n",
       "    }\n",
       "\n",
       "    .dataframe thead th {\n",
       "        text-align: right;\n",
       "    }\n",
       "</style>\n",
       "<table border=\"1\" class=\"dataframe\">\n",
       "  <thead>\n",
       "    <tr style=\"text-align: right;\">\n",
       "      <th>simulated_rating</th>\n",
       "      <th>20</th>\n",
       "      <th>1</th>\n",
       "      <th>2</th>\n",
       "      <th>3</th>\n",
       "      <th>4</th>\n",
       "      <th>5</th>\n",
       "      <th>6</th>\n",
       "      <th>7</th>\n",
       "    </tr>\n",
       "    <tr>\n",
       "      <th>rating</th>\n",
       "      <th></th>\n",
       "      <th></th>\n",
       "      <th></th>\n",
       "      <th></th>\n",
       "      <th></th>\n",
       "      <th></th>\n",
       "      <th></th>\n",
       "      <th></th>\n",
       "    </tr>\n",
       "  </thead>\n",
       "  <tbody>\n",
       "    <tr>\n",
       "      <th>1</th>\n",
       "      <td>0.0</td>\n",
       "      <td>3480010.0</td>\n",
       "      <td>197198.0</td>\n",
       "      <td>49375.0</td>\n",
       "      <td>776.0</td>\n",
       "      <td>6628.0</td>\n",
       "      <td>1040.0</td>\n",
       "      <td>0.0</td>\n",
       "    </tr>\n",
       "    <tr>\n",
       "      <th>2</th>\n",
       "      <td>0.0</td>\n",
       "      <td>2348795.0</td>\n",
       "      <td>140572.0</td>\n",
       "      <td>39844.0</td>\n",
       "      <td>602.0</td>\n",
       "      <td>3870.0</td>\n",
       "      <td>329.0</td>\n",
       "      <td>0.0</td>\n",
       "    </tr>\n",
       "    <tr>\n",
       "      <th>3</th>\n",
       "      <td>0.0</td>\n",
       "      <td>2085370.0</td>\n",
       "      <td>163610.0</td>\n",
       "      <td>57551.0</td>\n",
       "      <td>491.0</td>\n",
       "      <td>3635.0</td>\n",
       "      <td>741.0</td>\n",
       "      <td>18.0</td>\n",
       "    </tr>\n",
       "    <tr>\n",
       "      <th>4</th>\n",
       "      <td>0.0</td>\n",
       "      <td>22586.0</td>\n",
       "      <td>1822.0</td>\n",
       "      <td>791.0</td>\n",
       "      <td>1.0</td>\n",
       "      <td>41.0</td>\n",
       "      <td>16.0</td>\n",
       "      <td>0.0</td>\n",
       "    </tr>\n",
       "    <tr>\n",
       "      <th>5</th>\n",
       "      <td>0.0</td>\n",
       "      <td>35776.0</td>\n",
       "      <td>3022.0</td>\n",
       "      <td>1735.0</td>\n",
       "      <td>4.0</td>\n",
       "      <td>57.0</td>\n",
       "      <td>3.0</td>\n",
       "      <td>0.0</td>\n",
       "    </tr>\n",
       "    <tr>\n",
       "      <th>6</th>\n",
       "      <td>0.0</td>\n",
       "      <td>10685.0</td>\n",
       "      <td>2469.0</td>\n",
       "      <td>3003.0</td>\n",
       "      <td>0.0</td>\n",
       "      <td>28.0</td>\n",
       "      <td>2.0</td>\n",
       "      <td>0.0</td>\n",
       "    </tr>\n",
       "    <tr>\n",
       "      <th>7</th>\n",
       "      <td>0.0</td>\n",
       "      <td>74.0</td>\n",
       "      <td>3.0</td>\n",
       "      <td>1.0</td>\n",
       "      <td>0.0</td>\n",
       "      <td>0.0</td>\n",
       "      <td>0.0</td>\n",
       "      <td>0.0</td>\n",
       "    </tr>\n",
       "    <tr>\n",
       "      <th>20</th>\n",
       "      <td>49132.0</td>\n",
       "      <td>0.0</td>\n",
       "      <td>0.0</td>\n",
       "      <td>0.0</td>\n",
       "      <td>0.0</td>\n",
       "      <td>0.0</td>\n",
       "      <td>0.0</td>\n",
       "      <td>0.0</td>\n",
       "    </tr>\n",
       "  </tbody>\n",
       "</table>\n",
       "</div>"
      ],
      "text/plain": [
       "simulated_rating       20          1         2        3      4       5  \\\n",
       "rating                                                                   \n",
       "1                     0.0  3480010.0  197198.0  49375.0  776.0  6628.0   \n",
       "2                     0.0  2348795.0  140572.0  39844.0  602.0  3870.0   \n",
       "3                     0.0  2085370.0  163610.0  57551.0  491.0  3635.0   \n",
       "4                     0.0    22586.0    1822.0    791.0    1.0    41.0   \n",
       "5                     0.0    35776.0    3022.0   1735.0    4.0    57.0   \n",
       "6                     0.0    10685.0    2469.0   3003.0    0.0    28.0   \n",
       "7                     0.0       74.0       3.0      1.0    0.0     0.0   \n",
       "20                49132.0        0.0       0.0      0.0    0.0     0.0   \n",
       "\n",
       "simulated_rating       6     7  \n",
       "rating                          \n",
       "1                 1040.0   0.0  \n",
       "2                  329.0   0.0  \n",
       "3                  741.0  18.0  \n",
       "4                   16.0   0.0  \n",
       "5                    3.0   0.0  \n",
       "6                    2.0   0.0  \n",
       "7                    0.0   0.0  \n",
       "20                   0.0   0.0  "
      ]
     },
     "execution_count": 19,
     "metadata": {},
     "output_type": "execute_result"
    }
   ],
   "source": [
    "result_df.groupby('rating')['simulated_rating'].value_counts().unstack().fillna(0).round(2)"
   ]
  },
  {
   "cell_type": "code",
   "execution_count": 20,
   "id": "1474dbcb",
   "metadata": {},
   "outputs": [],
   "source": [
    "check_df = result_df[result_df['into_default_flag'].notna()]\n",
    "check_df = check_df[check_df['default_flag'] == 0]\n",
    "check_df = check_df.loc[check_df[date_col] < pd.to_datetime('2024-04-30')]"
   ]
  },
  {
   "cell_type": "code",
   "execution_count": 21,
   "id": "1920fbf5",
   "metadata": {},
   "outputs": [
    {
     "data": {
      "text/plain": [
       "0.90106305623096"
      ]
     },
     "execution_count": 21,
     "metadata": {},
     "output_type": "execute_result"
    }
   ],
   "source": [
    "from sklearn.metrics import roc_auc_score\n",
    "roc_auc_score(check_df['into_default_flag'], check_df['simulated_score'])"
   ]
  },
  {
   "cell_type": "code",
   "execution_count": 22,
   "id": "4d196a5e",
   "metadata": {},
   "outputs": [
    {
     "data": {
      "text/plain": [
       "<Axes: xlabel='simulated_rating', ylabel='Density'>"
      ]
     },
     "execution_count": 22,
     "metadata": {},
     "output_type": "execute_result"
    },
    {
     "data": {
      "image/png": "[encoded data removed]",
      "text/plain": [
       "<Figure size 640x480 with 1 Axes>"
      ]
     },
     "metadata": {},
     "output_type": "display_data"
    }
   ],
   "source": [
    "import seaborn as sns\n",
    "import matplotlib.pyplot as plt\n",
    "\n",
    "sns.histplot(check_df, x = 'simulated_rating', hue='into_default_flag', stat='density', common_norm=False, bins=30)\n"
   ]
  },
  {
   "cell_type": "markdown",
   "id": "973c5571",
   "metadata": {},
   "source": [
    "## 5. Analyze and Visualize Simulation Results\n",
    "\n",
    "Let's analyze the key results from our mortgage portfolio simulation and create some useful visualizations."
   ]
  },
  {
   "cell_type": "code",
   "execution_count": 13,
   "id": "182fb5fe",
   "metadata": {},
   "outputs": [
    {
     "name": "stdout",
     "output_type": "stream",
     "text": [
      "Rating migration matrix (Original vs. Simulated):\n",
      "simulated_rating   20      1      2      3      4      5    6\n",
      "rating                                                       \n",
      "1                 0.0  0.931  0.052  0.015  0.000  0.001  0.0\n",
      "2                 0.0  0.923  0.055  0.019  0.000  0.002  0.0\n",
      "3                 0.0  0.877  0.086  0.035  0.000  0.002  0.0\n",
      "4                 0.0  0.839  0.112  0.047  0.001  0.001  0.0\n",
      "5                 0.0  0.873  0.080  0.044  0.000  0.003  0.0\n",
      "6                 0.0  0.869  0.082  0.047  0.002  0.000  0.0\n",
      "7                 0.0  1.000  0.000  0.000  0.000  0.000  0.0\n",
      "20                1.0  0.000  0.000  0.000  0.000  0.000  0.0\n",
      "\n",
      "Final simulated default rate: 0.0000 (0.00%)\n"
     ]
    }
   ],
   "source": [
    "# Perform basic analysis of simulation results, if the simulation was successful\n",
    "if not result_df.empty:\n",
    "    # Use the most recent simulated data for analysis\n",
    "    analysis_df = result_df.sort_values(date_col).groupby(loan_id_col).last().reset_index()\n",
    "\n",
    "    # 1. Analyze rating migration from original to simulated\n",
    "    migration_matrix = pd.crosstab(\n",
    "        analysis_df['rating'], \n",
    "        analysis_df['simulated_rating'],\n",
    "        normalize='index'\n",
    "    )\n",
    "\n",
    "    print(\"Rating migration matrix (Original vs. Simulated):\")\n",
    "    print(migration_matrix.round(3))\n",
    "\n",
    "\n",
    "\n",
    "    # 3. Summarize simulated portfolio quality\n",
    "    final_default_rate = (analysis_df['simulated_rating'] == 'D').mean()\n",
    "    print(f\"\\nFinal simulated default rate: {final_default_rate:.4f} ({final_default_rate*100:.2f}%)\")\n",
    "\n",
    "    # Prepare data for visualization\n",
    "    visualization_data = {\n",
    "        'migration_matrix': migration_matrix,\n",
    "        'rating_transitions': analysis_df[['rating', 'simulated_rating']],\n",
    "    }\n",
    "else:\n",
    "    print(\"Simulation did not produce results. Skipping analysis.\")\n",
    "    visualization_data = {}"
   ]
  },
  {
   "cell_type": "code",
   "execution_count": 14,
   "id": "ad030998",
   "metadata": {},
   "outputs": [
    {
     "ename": "UFuncTypeError",
     "evalue": "ufunc 'greater' did not contain a loop with signature matching types (<class 'numpy.dtypes.Int64DType'>, <class 'numpy.dtypes.StrDType'>) -> None",
     "output_type": "error",
     "traceback": [
      "\u001b[31m---------------------------------------------------------------------------\u001b[39m",
      "\u001b[31mUFuncTypeError\u001b[39m                            Traceback (most recent call last)",
      "\u001b[36mCell\u001b[39m\u001b[36m \u001b[39m\u001b[32mIn[14]\u001b[39m\u001b[32m, line 27\u001b[39m\n\u001b[32m     25\u001b[39m migration_matrix = visualization_data[\u001b[33m'\u001b[39m\u001b[33mmigration_matrix\u001b[39m\u001b[33m'\u001b[39m]\n\u001b[32m     26\u001b[39m row_ratings = sort_ratings(migration_matrix.index)\n\u001b[32m---> \u001b[39m\u001b[32m27\u001b[39m col_ratings = \u001b[43msort_ratings\u001b[49m\u001b[43m(\u001b[49m\u001b[43mmigration_matrix\u001b[49m\u001b[43m.\u001b[49m\u001b[43mcolumns\u001b[49m\u001b[43m)\u001b[49m\n\u001b[32m     28\u001b[39m sorted_matrix = migration_matrix.reindex(index=row_ratings, columns=col_ratings).fillna(\u001b[32m0\u001b[39m)\n\u001b[32m     30\u001b[39m sns.heatmap(sorted_matrix, cmap=cm, annot=\u001b[38;5;28;01mTrue\u001b[39;00m, fmt=\u001b[33m'\u001b[39m\u001b[33m.3f\u001b[39m\u001b[33m'\u001b[39m, \n\u001b[32m     31\u001b[39m             linewidths=\u001b[32m0.5\u001b[39m, ax=ax1, vmin=\u001b[32m0\u001b[39m, vmax=\u001b[32m1\u001b[39m, cbar_kws={\u001b[33m'\u001b[39m\u001b[33mlabel\u001b[39m\u001b[33m'\u001b[39m: \u001b[33m'\u001b[39m\u001b[33mTransition Probability\u001b[39m\u001b[33m'\u001b[39m})\n",
      "\u001b[36mCell\u001b[39m\u001b[36m \u001b[39m\u001b[32mIn[14]\u001b[39m\u001b[32m, line 22\u001b[39m, in \u001b[36msort_ratings\u001b[39m\u001b[34m(ratings)\u001b[39m\n\u001b[32m     21\u001b[39m \u001b[38;5;28;01mdef\u001b[39;00m\u001b[38;5;250m \u001b[39m\u001b[34msort_ratings\u001b[39m(ratings):\n\u001b[32m---> \u001b[39m\u001b[32m22\u001b[39m     numeric_ratings = \u001b[38;5;28;43msorted\u001b[39;49m\u001b[43m(\u001b[49m\u001b[43m[\u001b[49m\u001b[43mr\u001b[49m\u001b[43m \u001b[49m\u001b[38;5;28;43;01mfor\u001b[39;49;00m\u001b[43m \u001b[49m\u001b[43mr\u001b[49m\u001b[43m \u001b[49m\u001b[38;5;129;43;01min\u001b[39;49;00m\u001b[43m \u001b[49m\u001b[43mratings\u001b[49m\u001b[43m \u001b[49m\u001b[38;5;28;43;01mif\u001b[39;49;00m\u001b[43m \u001b[49m\u001b[43mr\u001b[49m\u001b[43m \u001b[49m\u001b[43m!=\u001b[49m\u001b[43m \u001b[49m\u001b[33;43m'\u001b[39;49m\u001b[33;43mD\u001b[39;49m\u001b[33;43m'\u001b[39;49m\u001b[43m]\u001b[49m\u001b[43m)\u001b[49m\n\u001b[32m     23\u001b[39m     \u001b[38;5;28;01mreturn\u001b[39;00m numeric_ratings + [\u001b[33m'\u001b[39m\u001b[33mD\u001b[39m\u001b[33m'\u001b[39m] \u001b[38;5;28;01mif\u001b[39;00m \u001b[33m'\u001b[39m\u001b[33mD\u001b[39m\u001b[33m'\u001b[39m \u001b[38;5;129;01min\u001b[39;00m ratings \u001b[38;5;28;01melse\u001b[39;00m numeric_ratings\n",
      "\u001b[31mUFuncTypeError\u001b[39m: ufunc 'greater' did not contain a loop with signature matching types (<class 'numpy.dtypes.Int64DType'>, <class 'numpy.dtypes.StrDType'>) -> None"
     ]
    },
    {
     "data": {
      "image/png": "[encoded data removed]",
      "text/plain": [
       "<Figure size 1600x1400 with 1 Axes>"
      ]
     },
     "metadata": {},
     "output_type": "display_data"
    }
   ],
   "source": [
    "import matplotlib.pyplot as plt\n",
    "import seaborn as sns\n",
    "from matplotlib.colors import LinearSegmentedColormap\n",
    "\n",
    "# Set up a more professional plot style\n",
    "plt.style.use('ggplot')\n",
    "sns.set_palette(\"viridis\")\n",
    "plt.rcParams['figure.figsize'] = [12, 8]\n",
    "plt.rcParams['font.size'] = 12\n",
    "\n",
    "if visualization_data:\n",
    "    # Create a figure with subplots for key visualizations\n",
    "    fig = plt.figure(figsize=(16, 14))\n",
    "    fig.suptitle('PD Simulation Results: Original vs. Simulated', fontsize=20)\n",
    "\n",
    "    # 1. Heatmap of migration matrix\n",
    "    ax1 = plt.subplot(2, 2, 1)\n",
    "    colors = [\"green\", \"white\", \"red\"]\n",
    "    cm = LinearSegmentedColormap.from_list(\"custom\", colors, N=100)\n",
    "\n",
    "    def sort_ratings(ratings):\n",
    "        numeric_ratings = sorted([r for r in ratings if r != 'D'])\n",
    "        return numeric_ratings + ['D'] if 'D' in ratings else numeric_ratings\n",
    "\n",
    "    migration_matrix = visualization_data['migration_matrix']\n",
    "    row_ratings = sort_ratings(migration_matrix.index)\n",
    "    col_ratings = sort_ratings(migration_matrix.columns)\n",
    "    sorted_matrix = migration_matrix.reindex(index=row_ratings, columns=col_ratings).fillna(0)\n",
    "\n",
    "    sns.heatmap(sorted_matrix, cmap=cm, annot=True, fmt='.3f', \n",
    "                linewidths=0.5, ax=ax1, vmin=0, vmax=1, cbar_kws={'label': 'Transition Probability'})\n",
    "    ax1.set_title('Rating Migration Matrix (Original to Simulated)')\n",
    "    ax1.set_xlabel('Simulated Rating')\n",
    "    ax1.set_ylabel('Original Rating')\n",
    "\n",
    "    # 2. Rating distribution before and after simulation\n",
    "    ax2 = plt.subplot(2, 2, 2)\n",
    "    rating_transitions = visualization_data['rating_transitions']\n",
    "    start_counts = rating_transitions['rating'].value_counts().sort_index()\n",
    "    end_counts = rating_transitions['simulated_rating'].value_counts().sort_index()\n",
    "    \n",
    "    rating_counts = pd.DataFrame({'Original': start_counts, 'Simulated': end_counts}).fillna(0)\n",
    "    sorted_ratings = sort_ratings(rating_counts.index)\n",
    "    rating_counts = rating_counts.reindex(sorted_ratings)\n",
    "\n",
    "    rating_counts.plot(kind='bar', ax=ax2)\n",
    "    ax2.set_title('Rating Distribution: Original vs. Simulated')\n",
    "    ax2.set_xlabel('Rating')\n",
    "    ax2.set_ylabel('Number of Facilities')\n",
    "    ax2.grid(True, alpha=0.3)\n",
    "\n",
    "    # 3. PD distribution comparison (violin plot)\n",
    "    ax3 = plt.subplot(2, 2, 3)\n",
    "\n",
    "    ax3.set_title('PD Distribution: Original vs. Simulated')\n",
    "    ax3.set_ylabel('Probability of Default (PD)')\n",
    "\n",
    "    # 4. PD comparison by original rating\n",
    "    ax4 = plt.subplot(2, 2, 4)\n",
    "    pd_full_comparison = analysis_df[['rating', 'simulated_pd']].copy()\n",
    "    \n",
    "    \n",
    "    ax4.set_title('PD by Original Rating')\n",
    "    ax4.set_xlabel('Original Rating')\n",
    "    ax4.set_ylabel('Probability of Default (PD)')\n",
    "    ax4.legend(title='PD Type')\n",
    "\n",
    "    plt.tight_layout(rect=[0, 0, 1, 0.96])\n",
    "    plt.show()\n",
    "\n",
    "else:\n",
    "    print(\"No data to visualize.\")"
   ]
  },
  {
   "cell_type": "markdown",
   "id": "82e75045",
   "metadata": {},
   "source": [
    "## Conclusion\n",
    "\n",
    "This example demonstrates how to use the PD simulator module to model default risk in a mortgage portfolio. The simulation provides valuable insights into:\n",
    "\n",
    "1. **Default Rates**: The monthly and cumulative default rates across different scenarios.\n",
    "\n",
    "2. **Rating Migration**: How mortgages transition between rating categories over time.\n",
    "\n",
    "3. **Risk Factors**: The relationship between LTV ratios and default probability.\n",
    "\n",
    "4. **Portfolio Quality**: Changes in the overall distribution of ratings from start to end.\n",
    "\n",
    "These insights can be used for:\n",
    "- Regulatory capital calculations\n",
    "- IFRS 9/CECL expected credit loss estimation\n",
    "- Stress testing\n",
    "- Mortgage portfolio risk management\n",
    "- Pricing and underwriting strategy\n",
    "\n",
    "By using the `pd_simulator` module, financial institutions can efficiently model credit risk in their mortgage portfolios without implementing complex simulation logic from scratch."
   ]
  },
  {
   "cell_type": "code",
   "execution_count": 50,
   "id": "764a85aa",
   "metadata": {},
   "outputs": [
    {
     "data": {
      "text/plain": [
       "(8711706, 11)"
      ]
     },
     "execution_count": 50,
     "metadata": {},
     "output_type": "execute_result"
    }
   ],
   "source": [
    "result_df.shape"
   ]
  },
  {
   "cell_type": "code",
   "execution_count": 51,
   "id": "c3cbc97a",
   "metadata": {},
   "outputs": [
    {
     "data": {
      "text/plain": [
       "(8015944, 11)"
      ]
     },
     "execution_count": 51,
     "metadata": {},
     "output_type": "execute_result"
    }
   ],
   "source": [
    "result_df.loc[result_df['score'] <= 0.01].shape"
   ]
  }
 ],
 "metadata": {
  "kernelspec": {
   "display_name": ".venv",
   "language": "python",
   "name": "python3"
  },
  "language_info": {
   "codemirror_mode": {
    "name": "ipython",
    "version": 3
   },
   "file_extension": ".py",
   "mimetype": "text/x-python",
   "name": "python",
   "nbconvert_exporter": "python",
   "pygments_lexer": "ipython3",
   "version": "3.13.7"
  }
 },
 "nbformat": 4,
 "nbformat_minor": 5
}
