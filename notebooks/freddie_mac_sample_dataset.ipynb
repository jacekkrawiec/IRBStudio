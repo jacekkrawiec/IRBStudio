{
 "cells": [
  {
   "cell_type": "code",
   "execution_count": null,
   "id": "87e20fd1",
   "metadata": {},
   "outputs": [],
   "source": [
    "from irbstudio.data.loader import FreddieMacLoader\n",
    "\n",
    "loader = FreddieMacLoader('../data/FM/sample_svcg_*.txt', '../data/FM/sample_orig_*.txt')\n",
    "df = loader.load_performance()\n",
    "\n",
    "# Create default flag based on delinquency status\n",
    "df['dpd_group'] = df['Current_Loan_Delinquency_Status'].apply(lambda x: int(x) if str(x).isdigit() else 0)\n",
    "df['default_flag'] = (df['dpd_group'] >= 3)*1\n",
    "\n",
    "# Create reporting date from YYYYMM format\n",
    "import pandas as pd\n",
    "df['reporting_date'] = pd.to_datetime(df['Monthly_Reporting_Period'], format='%Y%m') + pd.offsets.MonthEnd(0)"
   ]
  },
  {
   "cell_type": "code",
   "execution_count": null,
   "id": "bc3eaa85",
   "metadata": {},
   "outputs": [],
   "source": [
    "# Create into_default_flag: 1 if facility goes into default within next 12 months, else 0\n",
    "df = df.sort_values(['Loan_Sequence_Number', 'reporting_date'])\n",
    "df['into_default_flag'] = (\n",
    "    df.groupby('Loan_Sequence_Number')['default_flag']\n",
    "    .transform(lambda x: x.rolling(window=12, min_periods=1).max().shift(-1).fillna(0))\n",
    "    .astype(int)\n",
    ")"
   ]
  },
  {
   "cell_type": "code",
   "execution_count": null,
   "id": "e967e374",
   "metadata": {},
   "outputs": [],
   "source": [
    "import numpy as np\n",
    "# Adjust into_default_flag for facilities with less than 12 months of history\n",
    "facility_counts = df.groupby('Loan_Sequence_Number')['reporting_date'].count()\n",
    "short_facilities = facility_counts[facility_counts < 12].index\n",
    "\n",
    "mask_short = df['Loan_Sequence_Number'].isin(short_facilities)\n",
    "mask_no_default = (df['into_default_flag'] == 0) & (df['default_flag'] == 0)\n",
    "\n",
    "df.loc[mask_short & mask_no_default, 'into_default_flag'] = np.nan"
   ]
  },
  {
   "cell_type": "code",
   "execution_count": null,
   "id": "0d4ec559",
   "metadata": {},
   "outputs": [],
   "source": [
    "# Find the most recent 12 months in the portfolio\n",
    "latest_months = df['reporting_date'].sort_values(ascending=False).unique()[:12]\n",
    "\n",
    "# Filter: keep rows where into_default_flag is not NaN,\n",
    "# or where reporting_date is in the most recent 12 months\n",
    "df_filtered = df[(~df['into_default_flag'].isna()) | (df['reporting_date'].isin(latest_months))]"
   ]
  },
  {
   "cell_type": "code",
   "execution_count": null,
   "id": "e4524835",
   "metadata": {},
   "outputs": [],
   "source": [
    "from sklearn.linear_model import LogisticRegression\n",
    "from sklearn.model_selection import train_test_split\n",
    "\n",
    "# Select a sample for quick fitting (e.g., 50,000 rows, stratified by into_default_flag)\n",
    "sample_df = df_filtered.dropna(subset=['into_default_flag'])\n",
    "sample_df = sample_df.sample(frac=1, random_state=42)  # Shuffle\n",
    "sample_df, _ = train_test_split(\n",
    "    sample_df, \n",
    "    train_size=2500, \n",
    "    stratify=sample_df['into_default_flag'], \n",
    "    random_state=42\n",
    ")\n",
    "\n",
    "# Simple feature selection (you can adjust as needed)\n",
    "features = ['Loan_Age', 'Estimated_Loan-to-Value_(ELTV)', 'Current_Interest_Rate', 'dpd_group']\n",
    "X = sample_df[features]\n",
    "y = sample_df['into_default_flag']\n",
    "\n",
    "# Fit logistic regression\n",
    "model = LogisticRegression(max_iter=100, solver='lbfgs')\n",
    "model.fit(X, y)\n",
    "\n",
    "# Score the whole df_filtered (fillna for missing features)\n",
    "X_full = df_filtered[features].fillna(0)\n",
    "df_filtered['score'] = model.predict_proba(X_full)[:, 1]"
   ]
  },
  {
   "cell_type": "code",
   "execution_count": null,
   "id": "8c1796c6",
   "metadata": {},
   "outputs": [],
   "source": [
    "from sklearn.metrics import roc_auc_score, roc_curve\n",
    "df_check = df_filtered.dropna(subset=['into_default_flag'])\n",
    "roc_auc_score(df_check['into_default_flag'], df_check['score'])"
   ]
  },
  {
   "cell_type": "code",
   "execution_count": null,
   "id": "6f6e160c",
   "metadata": {},
   "outputs": [],
   "source": [
    "from sklearn.tree import DecisionTreeClassifier\n",
    "from sklearn.utils import check_random_state\n",
    "import numpy as np\n",
    "import pandas as pd\n",
    "from scipy.stats import chi2_contingency\n",
    "import matplotlib.pyplot as plt\n",
    "\n",
    "def stable_binning(df, score_col, target_col, date_col, min_grades=9, min_bin_size=100, random_state=42):\n",
    "    \"\"\"\n",
    "    Bins scores into rating grades with constraints:\n",
    "    - At least min_grades bins\n",
    "    - Homogeneous default rates within bins\n",
    "    - Heterogeneous default rates between bins\n",
    "    - Over-time stability (default rates within bins don't cross over time)\n",
    "    Returns: DataFrame with new 'rating' column and bin edges\n",
    "    \"\"\"\n",
    "    # Prepare data for binning\n",
    "    scores = df[score_col].values.reshape(-1, 1)\n",
    "    y = df[target_col].values\n",
    "\n",
    "    # Use DecisionTree to find bins with different default rates\n",
    "    tree = DecisionTreeClassifier(\n",
    "        max_leaf_nodes=min_grades,\n",
    "        min_samples_leaf=min_bin_size,\n",
    "        random_state=random_state\n",
    "    )\n",
    "    # Use into_default_flag as target (future default)\n",
    "    tree.fit(scores, df['into_default_flag'])\n",
    "\n",
    "    # Get bin edges\n",
    "    thresholds = sorted(tree.tree_.threshold[tree.tree_.threshold > -2])\n",
    "    bin_edges = [-np.inf] + thresholds + [np.inf]\n",
    "\n",
    "    # Assign ratings\n",
    "    df['rating_bin'] = pd.cut(df[score_col], bins=bin_edges, labels=[str(i+1) for i in range(len(bin_edges)-1)], include_lowest=True)\n",
    "\n",
    "    # Homogeneity: check default rates within bins\n",
    "    bin_stats = df.groupby('rating_bin')[target_col].agg(['mean', 'count'])\n",
    "    print(\"Default rates by rating bin:\\n\", bin_stats)\n",
    "\n",
    "    # Heterogeneity: test statistical difference between bins\n",
    "    contingency = pd.crosstab(df['rating_bin'], df[target_col])\n",
    "    chi2, p, _, _ = chi2_contingency(contingency)\n",
    "    print(f\"\\nChi2 test p-value (heterogeneity): {p:.4g}\")\n",
    "\n",
    "    # Over-time stability: check default rates by bin over time\n",
    "    stability = df.groupby([date_col, 'rating_bin'])[target_col].mean().unstack()\n",
    "    stability.plot(title=\"Default Rate by Rating Bin Over Time\", figsize=(12,6))\n",
    "    plt.ylabel(\"Default Rate\")\n",
    "    plt.show()\n",
    "\n",
    "    return df, bin_edges"
   ]
  },
  {
   "cell_type": "code",
   "execution_count": null,
   "id": "7d357e19",
   "metadata": {},
   "outputs": [],
   "source": [
    "sample_df = df_filtered.dropna(subset=['into_default_flag'])\n",
    "sample_df = sample_df.sample(frac=1, random_state=42)  # Shuffle\n"
   ]
  },
  {
   "cell_type": "code",
   "execution_count": null,
   "id": "21e11579",
   "metadata": {},
   "outputs": [],
   "source": [
    "sample_df, bin_edges = stable_binning(\n",
    "    sample_df,\n",
    "    score_col='score',\n",
    "    target_col='into_default_flag',\n",
    "    date_col='reporting_date',\n",
    "    min_grades=7,\n",
    "    min_bin_size=10000,\n",
    "    random_state=42\n",
    ")"
   ]
  },
  {
   "cell_type": "code",
   "execution_count": null,
   "id": "93d987f7",
   "metadata": {},
   "outputs": [],
   "source": [
    "df_filtered['rating'] = pd.cut(df_filtered['score'], bins=bin_edges, labels=[str(i+1) for i in range(len(bin_edges)-1)], include_lowest=True)"
   ]
  },
  {
   "cell_type": "code",
   "execution_count": null,
   "id": "bdcb2a01",
   "metadata": {},
   "outputs": [],
   "source": [
    "df_filtered.to_csv('../data/sample_portfolio_data_fm.csv', index=False)"
   ]
  }
 ],
 "metadata": {
  "language_info": {
   "name": "python"
  }
 },
 "nbformat": 4,
 "nbformat_minor": 5
}
