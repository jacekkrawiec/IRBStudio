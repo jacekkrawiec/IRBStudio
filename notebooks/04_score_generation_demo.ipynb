{
 "cells": [
  {
   "cell_type": "markdown",
   "id": "c6d0c2ad",
   "metadata": {},
   "source": [
    "# Demonstrating Calibrated Score Generation\n",
    "\n",
    "This notebook demonstrates the use of the `score_generation` module to create two populations of scores (for 'good' and 'bad' outcomes) that are separated by a specific, targeted AUC value.\n",
    "\n",
    "This is a key part of the simulation engine, as it allows us to translate an abstract model performance metric (AUC) into concrete, simulated score distributions.\n",
    "\n",
    "The process is:\n",
    "1. **Create a Base Distribution**: We start by creating a base 'shape' for our scores using the `BetaMixtureFitter`.\n",
    "2. **Find the Calibration Factor (Gamma)**: We set a `target_auc` and use the `find_auc_calibration_factor` function to find the `gamma` value needed to achieve it.\n",
    "3. **Generate Calibrated Scores**: We use this `gamma` to generate two sets of scores with the desired separation.\n",
    "4. **Verify and Visualize**: We confirm that the resulting AUC is close to our target and plot the distributions to see the separation visually."
   ]
  },
  {
   "cell_type": "code",
   "execution_count": 1,
   "id": "612a12a5",
   "metadata": {},
   "outputs": [
    {
     "name": "stdout",
     "output_type": "stream",
     "text": [
      "Imports successful.\n"
     ]
    }
   ],
   "source": [
    "import numpy as np\n",
    "import pandas as pd\n",
    "import plotly.graph_objects as go\n",
    "from sklearn.metrics import roc_auc_score\n",
    "\n",
    "# Add the project root to the Python path\n",
    "import sys\n",
    "import os\n",
    "module_path = os.path.abspath(os.path.join('..'))\n",
    "if module_path not in sys.path:\n",
    "    sys.path.append(module_path)\n",
    "\n",
    "from irbstudio.simulation.distribution import BetaMixtureFitter\n",
    "from irbstudio.simulation.score_generation import (\n",
    "    find_auc_calibration_factor,\n",
    "    generate_calibrated_scores\n",
    ")\n",
    "\n",
    "print(\"Imports successful.\")"
   ]
  },
  {
   "cell_type": "markdown",
   "id": "ee3f6986",
   "metadata": {},
   "source": [
    "### 1. Create a Base Score Distribution\n",
    "\n",
    "First, we need a representative distribution of scores. We'll generate some synthetic data and fit a `BetaMixtureFitter` to it. This fitted distribution will serve as the 'raw material' for our score generation."
   ]
  },
  {
   "cell_type": "code",
   "execution_count": 2,
   "id": "37b262cf",
   "metadata": {},
   "outputs": [
    {
     "name": "stdout",
     "output_type": "stream",
     "text": [
      "2025-09-09 15:06:30 - irbstudio.simulation.distribution - INFO - Converged after 2 iterations.\n",
      "Base distribution has been fitted.\n",
      "Base distribution has been fitted.\n"
     ]
    }
   ],
   "source": [
    "np.random.seed(42)\n",
    "# A simple unimodal distribution is sufficient for this demo\n",
    "base_data = np.random.beta(a=5, b=20, size=5000)\n",
    "\n",
    "# Fit the distribution model\n",
    "base_distribution = BetaMixtureFitter(n_components=1).fit(base_data)\n",
    "\n",
    "print(\"Base distribution has been fitted.\")"
   ]
  },
  {
   "cell_type": "markdown",
   "id": "760d258f",
   "metadata": {},
   "source": [
    "### 2. Find the Calibration Factor for a Target AUC\n",
    "\n",
    "Let's say we want our simulated model to have an AUC of **0.85**. We use the `find_auc_calibration_factor` function to find the `gamma` that will transform our base scores to achieve this."
   ]
  },
  {
   "cell_type": "code",
   "execution_count": 3,
   "id": "6fe7d7ae",
   "metadata": {},
   "outputs": [
    {
     "name": "stdout",
     "output_type": "stream",
     "text": [
      "2025-09-09 15:06:48 - irbstudio.simulation.score_generation - INFO - Searching for gamma to achieve target AUC of 0.85...\n",
      "2025-09-09 15:06:48 - irbstudio.simulation.score_generation - INFO - Found calibrated gamma of 1.2000.\n",
      "Target AUC: 0.85\n",
      "Found calibrated gamma: 1.2000\n",
      "2025-09-09 15:06:48 - irbstudio.simulation.score_generation - INFO - Found calibrated gamma of 1.2000.\n",
      "Target AUC: 0.85\n",
      "Found calibrated gamma: 1.2000\n"
     ]
    }
   ],
   "source": [
    "TARGET_AUC = 0.85\n",
    "\n",
    "gamma = find_auc_calibration_factor(\n",
    "    base_distribution=base_distribution, \n",
    "    target_auc=TARGET_AUC,\n",
    "    n_samples_per_dist=20000 # Use a large number for stable optimization\n",
    ")\n",
    "\n",
    "print(f\"Target AUC: {TARGET_AUC}\")\n",
    "print(f\"Found calibrated gamma: {gamma:.4f}\")"
   ]
  },
  {
   "cell_type": "markdown",
   "id": "c55812b0",
   "metadata": {},
   "source": [
    "### 3. Generate Calibrated Scores\n",
    "\n",
    "Now we use this `gamma` to generate our two score populations. We'll create 10,000 scores for the 'good' population (non-defaulters) and 1,000 for the 'bad' population (defaulters)."
   ]
  },
  {
   "cell_type": "code",
   "execution_count": 6,
   "id": "4617908e",
   "metadata": {},
   "outputs": [
    {
     "name": "stdout",
     "output_type": "stream",
     "text": [
      "Generated 10000 'good' scores and 1000 'bad' scores.\n"
     ]
    }
   ],
   "source": [
    "N_GOOD = 10000\n",
    "N_BAD = 1000\n",
    "\n",
    "scores_good, scores_bad = generate_calibrated_scores(\n",
    "    base_distribution=base_distribution,\n",
    "    gamma=gamma,\n",
    "    n_good=N_GOOD,\n",
    "    n_bad=N_BAD\n",
    ")\n",
    "\n",
    "print(f\"Generated {len(scores_good)} 'good' scores and {len(scores_bad)} 'bad' scores.\")"
   ]
  },
  {
   "cell_type": "markdown",
   "id": "68420f09",
   "metadata": {},
   "source": [
    "### 4. Verify and Visualize the Results"
   ]
  },
  {
   "cell_type": "code",
   "execution_count": 7,
   "id": "facb0d9e",
   "metadata": {},
   "outputs": [
    {
     "name": "stdout",
     "output_type": "stream",
     "text": [
      "Target AUC: 0.85\n",
      "Actual AUC from generated scores: 0.8497\n"
     ]
    },
    {
     "data": {
      "application/vnd.plotly.v1+json": {
       "config": {
        "plotlyServerURL": "https://plot.ly"
       },
       "data": [
        {
         "histnorm": "probability density",
         "marker": {
          "color": "blue"
         },
         "name": "Good Scores (Non-Defaulters)",
         "opacity": 0.7,
         "type": "histogram",
         "x": {
          "bdata": "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",
          "dtype": "f8"
         }
        },
        {
         "histnorm": "probability density",
         "marker": {
          "color": "red"
         },
         "name": "Bad Scores (Defaulters)",
         "opacity": 0.7,
         "type": "histogram",
         "x": {
          "bdata": "27ayPEuP0z8WXW8yfIDUP1jTrvH1dtM/4m1rqjd90D+6UKPZYP7KPxNtSuq4ecs/UYsahjBVyz9YLxoNd33QPx/Cf48CQNE/Ka8qiH7rxT8ZzNPuDGTUPzNNYmraUMA/W1YFdteozj8c86bPXzPPPxNQnzSWm9Y/w1lIKJPGxz/AWJn9CuLQPyGsPdSTvtk/LaiXH25k0D8kg3x7p0LDP3kb1VwPwM4/IfFPI046yz/3pAX7s4DIP0PQPUg2gr0/oFSlYj1Bwz+t03sRVanOP5sNtq5s0cg/UlMj9wb5yD/kfp51TZLIP4RubtxJhcs/X5VST2fFyT+z+lYdb3rOPwl+UQTU1Mk/K1RWsRSkzD8k8+sLQUbLP7bct0wc9MM/UAb0+b8e0D/gk8JNcGPQP3WCST3teNI/kTR+dykZ0z+4A8s6rgHGP8KCLeqV5M8/y+RZ8whgxD993J2j2G/QP0H6sP8F3tc/4+hbU9rtwz9cHwxoRivKP5emVshjE9E/nEJ8/1ii1D/lrbad8ZDVP5duTcfwQts/Ut4n/Qz00T8Mow0FJOGwP8eZaoWvZtY/UF5F+vEI0z9Ani1/8zfSP7jJB7iBJtE/9AscOd5A0j9UvpAVWSfXP3XWkUF2C9E/xeMEUDif0D+ytDFygl/HP/ihu29u1cI/EleEQsNl3j/WALr+R5TCPx6Msze7480/9oMKoL4gxD/uE3VTbenTP30Q4K1mVdQ/gCwNh4Hq0T8msELYWZ/bP8CmsmYmMso/xVX+IFlY3j98p7s6csfFP+KftKTShdQ/0q2Rjegz1D8ldGoyhnbKP9U+0bw6qsw/64iOMhyJwz96bm6KKRzAPxap1aDiK9c/+nHeo5Bo1z9HRMIcgSrEP1jysIAb89c/7fxvSaIIyD9Irkx97czWP95zlf/rRtI/123vrBAl2j/o1rtthLzNP2TevNbZ58E/LpNn9O+r0z9IkdnFvzPTPyixXHoAJcI/8sNtt/A9wT9EhTkE8m3QP1mwmCiumc8/CJVCPKVH1T82WcNKcm3UP3nrsZTe29k/QtTKhKE+0j9wGM+ABMTVP+OLuujmdsw/g/Zjj1Bwwz/ILLaebT7gPyOUQkhQgcw/vDIoZJ6g0j9Gp65Z8gjLP///ZVRajcc/a3uFKwKg1z9a6SEKulLaPygPKsVfANc/Kb17pGJAxj+tImJJTQfPP+hItwxkBdQ/kCil2qgR0j9+mSGuOKLRP4akAGpuls8/XCF8FsBzzz9Xg8TlxrXNP0z6/j7iC8c/pV8Kb3aNwj8iQRWHO9fXP29B7iU/bs4/WnISOjGhwz/jWb7QwOXGP4M2rD4CCs8/M7kSfzES0D+ZRahDZr/UP6nsoEbLMsM/lhWtKY4fxj/wj9QLYqnJP7JqkASe89I/VBSQVQnYxT8558AEtfXSP6r6iO+3JMk/qTeWoqTpvD989zgskp/IPzByDU96p9c/Ulg86PsoyD9+dpMKrMvFPyhYK4O1a8U/jAohUsKCzT/1Sw6uM1rTP90ETUsee9E/5Se3CYJQwz/4OGT74ajVPwdlK/eUOtQ/uGTZKW7IzD8CfWs4fPPNPw/o6hGOXdA/mKGTN7Klxj9qZubN0s3WP1fqTkNPG8Q/4kbOchjZ0j+XMPwiTTzRP692LYCOhdQ/rT/YPEWgxD+LmeM11k7KP9v6MLPv9tE/QMVjrPc4xj9JRJoxv57RP3df3btLedY/3sPj8ZwGyD/jzNDyFODJP3aH16jufNg/OY/HWSPIzz9+oBScREPdPzC2jV72+MM/pFQ24cIW3D/szyhWZ4zOPyE+izOfPs0/cO7f/1ejxT8ve0+ur/rKP58GtMyFRNA/4MVdcgQlyT97r9RMlUvEP4BGOF9QfdU/HSPngem0yz+weUbFco3RP4+lmtJy1M4/RRKsvCzpzT86njV6UhPTP0tE+dBmaNI/olkiERaq0T90GFL2sMnNP/hN4ECnUdM/zPKaLQfl0j+Lyvs5D13IPyQ3L9Z8r8A/TSPpUEH60D+d7S8ksEG+P22svJQnfsM/t8bsP8Ut1D/WRDPuT93SP8r/I9w8P9E/Vxda2KO0zD+xAE4DthfCPzbcuSVfIso/CioiuF9Lxj+dVZjDip3SPy6cdVZwZNA/x5e7yRGgyD/q+zCnL9zBP0tGZbnVtMU/Fvz+Zt+G0T9F3HMx2cTKP6GZ9UUMQdI/I3P2dt+L0j/h32semZzXPzZofCCh7dA/MpMZg5BB0z/ZhGv7earWP5TXD9tplNM/4ru9l60a0z+6xHoxsRHKP44hOkZtbsI/Wtg5DEsouz8EO3VDeffSP/o+TdLpKNM/I7BLuPqQwz/f+kZi42DOP5HexhfRm8o/xs1nkL+lzT9sEQ18JFLZP5pgo9lDstE/t/VSjP20xj+NI3999CLAP6xvGrr6JM0/FYLSILWjzz/usmEkpI3HP9aZtHttuNs/2i3GX8El1D9AVXitiPvMP+HV77SS6ME/Iqp8B2Eh0D99HCNip+bDP5BC2fxe6sI/+OU877Q90j/wj6EFxGPSP80+JI1rUsw/h2ArBptg0D87eiKJLUfaP/ZtK9jTxdM/Cnjs5aRAyj+tvxoqlITNP+If2uWKbco/1STh3SgFzz9JusA/+hXEP1g6Pmt+s9U/zfYuL3o8yz/IXB4C1qnAPyPBkJrjlds/Al6BSNZyzz9IgyuPz03KP9dz9JY/O88/EB/Sguje1j+XDeM69RXSP5Iv/wkCdcs/p1fOSw4yzD8TQayRtxDSPwFBKhKFJcg/jofo8O2RzD+SWdgiRKPLP05rYZ0CFs0/LaBAyi6yxT/pTWJlCunIPxOjtWty5dE/kPh8qFyktj8Eu4NQiS/fP72Brg08J8I/VqmO87+OyD/euUYBogLUP5ZVBWA0gNI/xdI3uZVOyj9eaQ6iHtPSP6q4oRnCQM4/NbAQP84L2D+BFsCRWvzMP1Ulwv1VRtQ/buwG1oEL0D/tJjFwLXDMP0BcP3/1ito/e9UM3d8b2j9FujJBA5a9P5XSP0vaLsg/I2ViVk6K1D/OY7MixbnHP4XRO4i7JNQ/1Ija4V211j/WDLsx2EPTP3q1B8mKtsk/TR6F71HH0T+XkoSsenDWP/UeKTujNMU/uUvzVQ80yD9717HuhMjQPzogcx0QwMI/4ioZMRHOyT+Yv19J/3TcP8thp243NcQ/TpWFS/dIxD9LUbrizUXFP17PSy1HU+E/O426f6L0yD9le7AGvxrLP2AKO2W9ltc/D1uHZpvWxT/VthaMuwfQP743TPCHxdQ/qne7ST+bzT8IfVuS3DnDPy8uYLyi8bc/s3URBHVcxz/S6QTuCfnQPxp+7ffKfss/Eila88Rs1T8aUrhgcXLJP5nGHx8QXMc/xChgnbNtyj8qwu8wj8nUPzkB4XOXOts/pRhpPqxZyD/9zbAZh0TIP8/hiZL4kdI/qsvILJ8T0T87nMhXF+DXPzoMUcN5CsY/CDVX3o4L0D96z3t6LLXPP05GxazLI9k/ofBiBAKy0T/irwTDdXzTP/c2bLfGq9A/hrThzx2t0j/FZjvbKq3LP/thoZ1RP84/+xKjGrM7zj8HCZdTgFDUP+zM9uVuP9Q/A0CZdM494D9SJoOPZkfLP6Qf93c8g9U/Jjjr1Vx7zD+VQvt67rbCP5atFc9SAMs/M4E3dpiK0T9dk2z3vg/CP0aSfusmENE/2lONuBO90z/1NFeyeerNP09B9uBEcs0/ekYKvxiR0j+nXCUf5wrUPyKvExpkLtA/JRu4aDShyz+dYB16C4LPP+AwXNm8tsY/h9ihCvb61T+xkXVxQRfDP2sVxSzhn8Y/x5zeE8ehyj88sJNnM1jIP/7pSp/mzMY/J/dEl+5m0z8hcEiyQ2/SP3w5uzFL8sg/mnNUuXCIzz9BY2ZRQlfRPyaegZPW79Y/L0BJ/4oPzT8C3k502y/KPxlfgppgDdE/GonPjzh1zj89pwTMsznSP2zD0KIf3ds/VtcnfpFP0T++SPUvZmbKPwSiKreB+Mk/f89CYg0W0j+gRzaa6UvOP6UcU0115dE/v3Lxsiv0uT9Jj8A8XzTTP+VdROLffbc/LdL1pW351D85YPS1H1TSP38d2/yetNE/HjbepOT60D+X3xRg5BPTP+m/wC0pjNU/AUkgkpUL0z9DKHmBoDLUP5S8rVLTHtc/P4SH2p06xj8sRU+x6GjXP7Be+D27Lc4/RA5cwEzqyT+AVejeWcjPP+Pve5DABsk/wvCgGCDC1D8b1MYOC1TYPzxBmXBp3sU/+MqmxTdHwz8iLafQ3bDFPzHjB4lrIdM/72urLoSY1T+fpf4HBO7TP7jZ9A+7G84/KqMukboqwD+jKOSq5fzOP16KjuKZr8o/ND14SGEuwD8Tj8vEOZTQP7ibwko2pMs/Sjj8w5d30j/GAL13j+vJP25VENnynNE/fldM2gmivz8lDSUmvmHKPxUNswKgJ8c/tGn5GcGs1j9Pa0GY+WbRPzEIS2gyTc4/TPcodRaOzj+XrHGTMHfIP0bCWIHORtE/heZscI0tzz8aDWUnc9HcP4z4NTDh4Mw/wtAgx5wWzj/0+/SvqRDRPyPK3faDrNU/+ViiD+072j/vEy1jE2rEP8I3phFj89Q/TpJDlecyzj8KL1aH6w3XP4FVQoWol9Q/rfw3RGo1xT8Uj6HdqSPSP0vBBYgQesg/oOTeuPjRzz8ogKHKYW3NPwh0JbwX39I/++wfqFxmxD+O5TkqslfUP/Z+HrcxDMc/uOMCHL8e2D9QMwpVzm3YP7/qca1tTMo/jOUJ+HsS0j9nFmwMjCLMPx5G+8iX3NA/TrM45/g90z9nA1sZSFrSP1ek4y53/8o/EUAcZLa70D+NOaHOfQfFP7E8zwAUHcM/3ng/OcaZ0j8C7QYiTC7LP9aBGWnhRdA/HzsipqZN0j9kukd6Ms/WP9gB1m/J2s8/aoScsRMX1D9bKbLJYUzJPzkajOQxCcs/9+mPfBCA1D8Fa5vVFJrOP0JMeFS5UsU/0H/Sle7e1z/iG01E9UjCP5U9GhVZ/sc//VPSw2KS0T8u4dGnhD+qP/S4qyUim74/+rPBGwHEyD9QKcDjWWPJP83s8PgV1sQ/HepDX8eztj9H4upNArvRP9RpAEXhh8o//HLCnAgs1D+KcMoqzsS+P+yjsnQZ4Mk/uDytFMNO2j9Wyy8o8wvGP8NQBu9oUM4/rdxL0lOewT8GCDMqyJDBPzBEQ/dp5Nk/YCRu/aTLzD/eMVJ3iarSP7kWo960sNQ/bW7FQm1W2j/1LAu6Lk3aP2F+L3JqErw/D/uLqOmAxT9TtJrLII/FPzz3bOvX1tE/vBqYckOh1T9Ye1wzB/fTP49QSHtiXtY//TnUOe35wD99gKVR8lrVP7ph1eAI29I/FWiHyx8ZxD9vgZH09+LIP1KzKGYdUL0/mi/X5IGC0D8BPh1TU//LP6zyyTCqG9g/F65vQid3vj+cLVGw7yTRP26fbQaAFc8/DrzKElKHzz/bKP4O+f3ZP9R5IaOzttI/WFCjQO450z+5QxQ8tNDNP956auK/H9E/SbK3GlHQ2j/q3zAoeP/TP+oxykZyV7s/HGpPE3uQzT/TIW+/nMzRP0AzAbBDM8Y/HWRDKyOCwT8gs7SwxifKP2DStPnvMM8/z4uwiDLo0z+dmfhbNMDOPxzaQ/uGNM4/wd/hJO3u1T+MrTBXDdvHP/7a8K154sU/NFREYFzMyj8vZ1x0sebKPyQ87EcFetM/J3Zslzy21D/W7l1eQNzEPyLevyDqddI/na4hq7+j1j+oh+kjg7rTP0B4ZUnxI8Y//sBMZQpd0z8hu/jY+ZzXP79iaqIusdI/AKwyjNZI3j9QAjF9613NP1dVfRCbo9Y/ESf97PTR0T9Uq9y1ZWnRPxqY8s8potE/+2RAWf3Oyz/nlYtUR7TJP8/wJIelHdU/jhKBKYwl1j+I3HaF57PJP/jodnoxUcw/24Ts5WiDyj9wsOec6H/YPyvd5rGeQ9A/hyJLDSnSyD+icCGdQVXgP5BgbRUnEcg/KPg3f6cczz9cULz/lJXWP3HLK5vp9sc/+yi+ZX8O1D/Zi+HVfMTDP59ZYp1E/NA/f6oXk8cJ1D/sYk5/hzjVP27DbboBN9M/R5/1fMpvvz9qPzgMO7rdP96dJxy0f+A/N45xrvYx0T+dZChvicTSPzUNIo9zGs0/rDmvSRF+xz/fKgu9UEjYP/kbYjaGCss/FEszALnq0z9416Qss6bGP3Z9ZiZWdNI/g9+NWKeSyD+u7eu71mLJP8okGdE52dY/XjdDGnGBzj8uaqzzK0bGP62NI80ME9k/EXz5a1gR1D/7hyl5CU/MP+xaJ93inNM/ID5Ft+Rk0z/xiZ5UceHdPwNHTJUidtU/0wuj0+ZS2j8+nn3jLZ3LPyMa5Ibhldo/u8X6mtoj2j/cWONHR/vJP+e5CbQEh9A/MBXsbJEs1T956xbLxCXTP0kx6GOml8s/3dwX5U/iyD818GesAevOPwVC504uJtE/gUU3IBez0j8Anh6Ic6jZPweqp8k2Z9o/Q9fCXWkT0j97mRCI3BLBP9Pg6diWEsE/OMCWQxz8yD+4ZRzYzaDJP+W3+S4+w8k/ZHVSX8pL1T/pj/DMwerPP1+jxON689I/zQ7c5u/h0z8bfx5tDm7HP1jfkY9t4tc/wieNUjaCyz+CSutSzqPHP0hWHJJZ/dI/FiLAlwIt0T9Edwaa7ofZP6qZ0H5g59E/QC2VgbR41D9+MRt2fA/VP+OgMfpV3dE/DZOI65mZ0D9GfjKHnYzBP8ZHuJnb7NA/9I+31pHYzz9MOk+VfV/fPwyed/fqwcw/9hcVQ62lzz/gmy5p3SrNP2Nn5oCKq8o/wE0siJlQ2T9ug3GyxzXUPxxpGmCvRcE/9mmFC1SX0D/spPsSM5PSP/H/NHXd4NY/lXvQhJfszz8lF3HmqFnZP+n88tVkCcs/WuQpJvt6zj9A9HIuH6rUP7EM/G5vwtA/eg4QEjviwj/DQ9lZ2/DWP9mNYLbTJtI/z8lkyRAPxT98m2uBhd/SP6DIvwkfKcM/yjD6Ojz6xD+Oo+2A4RvVPwamB9ICOtE/Bl1+wt561j+l/zGUbJfTP5sn6+QFLtI/9hOqwxTSzD+/mjyxkKTSPyk7z5Hzx9g/Au9/fmUb0D+tbZBoQnLTP1RgJxUaXMw/HBDGPVss1z+gFqNz2YfLPyn5D3WAz9A/pkAnfe+cxz/BMvgZomDJPzNrdisKl8c/6WJ3GRc10T85ikxFoGjWP9FeRpGF/sw/qzO6QmUKwj/kMRKwGYTRP+k8kOrI6dA/T9V7yuzU1D8hwgi4pdPQP7bkTIfu5NI/jebNVY+i1D/eY2s+EOLUP3VEHYGDg8Y/3lks82XXzj8e/djvfwnOP8y/6VRKr9A/WUjx1GNnxD/UpyLBUFrQP25l+coXg8A/ufELzqsH0z9/o0M10+bLP/7z5erjRtQ/1CCLt1H30D/o1WH4rf27P/fBIhs8isM/M3V0psYKyz92lmMI+8bPP+6Efot82d8/utzn2yLv0j9aEctC2G3GP7N7/1KqR78/MZn2Y9wFwj+WQRD3BsjMP7mi+YiKfdE/m/yvs/4v0j9jVrQFW3fMP7kBtHTQhcU/1wSzHWio1D/1rlpdP+PSP119sCENwNU/N6Ckt6va0T+2d3YZUi3gP1TZAWglpdM/KPH7lPaH1D+A3GqNwGHAP4+WGxD8ItU/I5TUjUGd2D9xJBoSvK66PyvUpAqCNMk/vvJ6EHXfyz/b2UbX1TLTP3U+EASglsQ/ehsKtW9Ozz972qsQm2HFP7nOhwXMH9M/qGsd4OZTwj/tkQcYsLHAP665QXtC+c8/3+dUXtNI3T/Lz8iWxrHJP2Oq2/Ap1dQ/soTnFHNH1D82HucWJybRP9Fp6wvreMs/WpKfVmBR1D+8ptILCs3LP/gx1OZADsg/WDDvoozs2D8eA9QC2QPLP1rm3rFDYM4/5uKs4tOy1D84BmPnLp22P/ifWL7RssQ/+IG9abtd0z9WDXZVRqTIPwrGC7MMPN8/P5lQkAEiyT82omboGoDNP7MmfFQ0lMs/bIxozHmDyD/jZSglpaLNP8W9TILT5Mg/NgBXoY3Gsj/18JkbyCnMP0YHvwtfINQ/4GIsPn9Z1z9FwWh9j1vgPwEk7NLlmsk/634kcwau0z8FRMTMLzrVPxK+0FJtVNI/A1TWl0vnwT/Q+lusXHnUP5h7ivpjINc/al/c2wdE0z+J3sOrF2fSP7YFBJ5xm9M/Rfq6R7Ko1D+jGGDy0f/UPzhACEtjodo/cRgvqJSQ1j8JgYtXNq7OP5foIk+kztA/jUJoQWhU2D/zPNpasSbIPxasnI9dzdU/7qkNhnP9zz8SsuR7qUDNP6k85j+nTtY/723CslTJzz/2mmVYi6XBP4+CQ/1oKMk/E49RcBGO2T9imXL6ReXJPw8hhHKcjNI//sf5+fi40T++QW1sE2vVP/jA+S49lNY/BcXME+yMvj9zTuv6liXKP80BDPAuoNE/Zdp2FnOEwz+ODVIQgWfUP0pVrIZSZdI/H+zm7flpyD9dbrcIaUfKP/WjCTevXcg/HQBGdZuF0D939LLr7QPSP6da2HfzrM8/uYsenUfwyD+5xrfX9D3bPyQh5dFzosY/zeAW+vj4xD+vXBEtm/zPP2ZRTmFKlMg/wSR3OM8v0z9zK7gq76HPP+Kf7hLiMME/eHE2r4ZgzT+kg/YQFQ/aP2hEL5eECco/uCB1Qbluwj9/ISh3BgjeP7QvSvhfydU/FZiizydq1j9Fh6cpj/XFP3Qc01I3RNM/nyAyLtstzD96nh95FUvNPx2KMRf0HdI/GPdfPn1szT8dMJRA1P7SP5Z+evtkZN0/S3O8sb7v1D+zuaCQOv3UP0ENO/J+Y9A/IJANgYR31T89y6d+HV7VP/8971BWFcY/5AMNaygPwj++uNSoqQzTP2oZYuJjmcA/vis2IPv/0D84nD9EfKvPP6PsqV8cfso/3lybCwn2xT982gkB5hXRP0a6+r04w9M/vN49NZs+wT+H06n82ADTPxLSUS4vudY/l0yPWYSPzD9hTNlIZQ7aP5iaeifKkdQ/rjpN+i1Gxz/boYeoMQTCP2HPJ/UUit0/kMC6czY11T+yB1K7+e/OP8J9WgvA3c4/zu91LugLyz+se67zdtzCPyxlWNcdNdI/vOJ/cUbu0j8LvxMzUcLaPzFZMhB6Xcg/U8+4AUOqyT970vdwWkDGP3A0hL4qzNQ/D7prugnWyT/Ss6J0FdfPP8z5odAk8tc/MRf7QfZLxT93KMPkdb3MP1ng/uNWZtY/PHwlp1uE0j91UAK194fIP5Sevqcbdc8/F/+NY5Av0z9zLsEPOMTZP6D76y+889U/YUQgNfuc0T8ZMDy5+6zTP5WlyUfGQ9g/raak+VSBxD/ewsMSB+fXP36fvO9tLMQ/vC1lkzDzzT+e54EAUgHIPz6menCk3NU/vnXa3GTDxj9iAgvkyBbWPwAlnLmNBdY/pwxnR24K0z/oIw6hs83NP7FbI9W1nbQ/PLhccgtG1T98TTNXBvbQP62WMiWyU8s/mWB24fud0D/jyBy+emrOP9iX6M7ZetA/T8exSvDs2D+yu1IlcYrXP8cpMIXYw8w/jM1NAypazz9BrV0YByvLP/DZBjD93c8/SOfRRKGV0j91ZjWtVQHGP0twS9eJhNg/2Zr5YdglyD84mXDgyVfHP/xElrFFs9M/gDYtufs80D/vSbvz867QPwRC2fl6lr0/Wa+s3CNfuj+xZDkQJV3aP7PzRcyPdMg/pVbSMssZ0D8G9p2yK+zaPzkjF5diy8w/Lbcw4ktM2T9GPLO8XmLZP4XWAoBPCtc/JKrGDqcW2D9Uf/WcMbnBP/ntRr0Arco/8MOu+aKZyD+Vu6/Lu0TSP8RX7Zm5tNE/00j+eADCxz+v/1XsGivHPwHOnJlnR9Y/B2HLrwrmzj8+cIaQiC3PP/VW1g6eucM/3wllDBx3yj8D/faCQonRP2tP2v4lcNU/1JjourP70j+gHc1WMCzTP4mahSAf1co/QG6Bcixzzz/R3BMCph3QP//oP92d69M/3duu2Khayz+AE+uyC+/UP82wRllLz9Y//HPORiMOyj87+QnJBkLMP9fLZiJWuMY/Dyh4FKCCxj9f0Xp4NrTCPxOAI36+w9A/NXElFQrfvD9JjDM19KXHP1dFzxVQAtc/wORDKk6tyT80IJzNFXnQPwc6kpUoH8c//0xXWPQdtj9yAhp0967UP8IrVsGpeNg/oRfR/G7Ayz/876iz4svQPwGkoB5wA9Q/mczvCaduyD9BVuRYlUrFP8fifTKA7NU/seEmTNsTwz91L7Eu5MHJP1Y7z9tyV8Y/RW2jG7ft0j+bXdxE50nbP756wKdDW9Y/JaHTEbvqzT/QM6U03PHEP5MGFauVfNM/VG4qyEyNyj9ll9ZAGzvGP09JUaiZJNw/7T3cPgAy0T8qh4LW8yjeP1gVV5DvlcY/K2mbtTfL1D/PmD5vYojKP+7Uqk7zWtE/JMcTYjnR0j+N/cGMChfBP/LBYUtKB8c/FCVWbeAA1D/HXu1d4DzPPzLIJ8AYs8g/QGihK4Dl0D+CSBxA20TUP0hv9rgCA9s/1GmeE+MD1z8=",
          "dtype": "f8"
         }
        }
       ],
       "layout": {
        "barmode": "overlay",
        "legend": {
         "title": {
          "text": "Population"
         }
        },
        "template": {
         "data": {
          "bar": [
           {
            "error_x": {
             "color": "#2a3f5f"
            },
            "error_y": {
             "color": "#2a3f5f"
            },
            "marker": {
             "line": {
              "color": "#E5ECF6",
              "width": 0.5
             },
             "pattern": {
              "fillmode": "overlay",
              "size": 10,
              "solidity": 0.2
             }
            },
            "type": "bar"
           }
          ],
          "barpolar": [
           {
            "marker": {
             "line": {
              "color": "#E5ECF6",
              "width": 0.5
             },
             "pattern": {
              "fillmode": "overlay",
              "size": 10,
              "solidity": 0.2
             }
            },
            "type": "barpolar"
           }
          ],
          "carpet": [
           {
            "aaxis": {
             "endlinecolor": "#2a3f5f",
             "gridcolor": "white",
             "linecolor": "white",
             "minorgridcolor": "white",
             "startlinecolor": "#2a3f5f"
            },
            "baxis": {
             "endlinecolor": "#2a3f5f",
             "gridcolor": "white",
             "linecolor": "white",
             "minorgridcolor": "white",
             "startlinecolor": "#2a3f5f"
            },
            "type": "carpet"
           }
          ],
          "choropleth": [
           {
            "colorbar": {
             "outlinewidth": 0,
             "ticks": ""
            },
            "type": "choropleth"
           }
          ],
          "contour": [
           {
            "colorbar": {
             "outlinewidth": 0,
             "ticks": ""
            },
            "colorscale": [
             [
              0,
              "#0d0887"
             ],
             [
              0.1111111111111111,
              "#46039f"
             ],
             [
              0.2222222222222222,
              "#7201a8"
             ],
             [
              0.3333333333333333,
              "#9c179e"
             ],
             [
              0.4444444444444444,
              "#bd3786"
             ],
             [
              0.5555555555555556,
              "#d8576b"
             ],
             [
              0.6666666666666666,
              "#ed7953"
             ],
             [
              0.7777777777777778,
              "#fb9f3a"
             ],
             [
              0.8888888888888888,
              "#fdca26"
             ],
             [
              1,
              "#f0f921"
             ]
            ],
            "type": "contour"
           }
          ],
          "contourcarpet": [
           {
            "colorbar": {
             "outlinewidth": 0,
             "ticks": ""
            },
            "type": "contourcarpet"
           }
          ],
          "heatmap": [
           {
            "colorbar": {
             "outlinewidth": 0,
             "ticks": ""
            },
            "colorscale": [
             [
              0,
              "#0d0887"
             ],
             [
              0.1111111111111111,
              "#46039f"
             ],
             [
              0.2222222222222222,
              "#7201a8"
             ],
             [
              0.3333333333333333,
              "#9c179e"
             ],
             [
              0.4444444444444444,
              "#bd3786"
             ],
             [
              0.5555555555555556,
              "#d8576b"
             ],
             [
              0.6666666666666666,
              "#ed7953"
             ],
             [
              0.7777777777777778,
              "#fb9f3a"
             ],
             [
              0.8888888888888888,
              "#fdca26"
             ],
             [
              1,
              "#f0f921"
             ]
            ],
            "type": "heatmap"
           }
          ],
          "histogram": [
           {
            "marker": {
             "pattern": {
              "fillmode": "overlay",
              "size": 10,
              "solidity": 0.2
             }
            },
            "type": "histogram"
           }
          ],
          "histogram2d": [
           {
            "colorbar": {
             "outlinewidth": 0,
             "ticks": ""
            },
            "colorscale": [
             [
              0,
              "#0d0887"
             ],
             [
              0.1111111111111111,
              "#46039f"
             ],
             [
              0.2222222222222222,
              "#7201a8"
             ],
             [
              0.3333333333333333,
              "#9c179e"
             ],
             [
              0.4444444444444444,
              "#bd3786"
             ],
             [
              0.5555555555555556,
              "#d8576b"
             ],
             [
              0.6666666666666666,
              "#ed7953"
             ],
             [
              0.7777777777777778,
              "#fb9f3a"
             ],
             [
              0.8888888888888888,
              "#fdca26"
             ],
             [
              1,
              "#f0f921"
             ]
            ],
            "type": "histogram2d"
           }
          ],
          "histogram2dcontour": [
           {
            "colorbar": {
             "outlinewidth": 0,
             "ticks": ""
            },
            "colorscale": [
             [
              0,
              "#0d0887"
             ],
             [
              0.1111111111111111,
              "#46039f"
             ],
             [
              0.2222222222222222,
              "#7201a8"
             ],
             [
              0.3333333333333333,
              "#9c179e"
             ],
             [
              0.4444444444444444,
              "#bd3786"
             ],
             [
              0.5555555555555556,
              "#d8576b"
             ],
             [
              0.6666666666666666,
              "#ed7953"
             ],
             [
              0.7777777777777778,
              "#fb9f3a"
             ],
             [
              0.8888888888888888,
              "#fdca26"
             ],
             [
              1,
              "#f0f921"
             ]
            ],
            "type": "histogram2dcontour"
           }
          ],
          "mesh3d": [
           {
            "colorbar": {
             "outlinewidth": 0,
             "ticks": ""
            },
            "type": "mesh3d"
           }
          ],
          "parcoords": [
           {
            "line": {
             "colorbar": {
              "outlinewidth": 0,
              "ticks": ""
             }
            },
            "type": "parcoords"
           }
          ],
          "pie": [
           {
            "automargin": true,
            "type": "pie"
           }
          ],
          "scatter": [
           {
            "fillpattern": {
             "fillmode": "overlay",
             "size": 10,
             "solidity": 0.2
            },
            "type": "scatter"
           }
          ],
          "scatter3d": [
           {
            "line": {
             "colorbar": {
              "outlinewidth": 0,
              "ticks": ""
             }
            },
            "marker": {
             "colorbar": {
              "outlinewidth": 0,
              "ticks": ""
             }
            },
            "type": "scatter3d"
           }
          ],
          "scattercarpet": [
           {
            "marker": {
             "colorbar": {
              "outlinewidth": 0,
              "ticks": ""
             }
            },
            "type": "scattercarpet"
           }
          ],
          "scattergeo": [
           {
            "marker": {
             "colorbar": {
              "outlinewidth": 0,
              "ticks": ""
             }
            },
            "type": "scattergeo"
           }
          ],
          "scattergl": [
           {
            "marker": {
             "colorbar": {
              "outlinewidth": 0,
              "ticks": ""
             }
            },
            "type": "scattergl"
           }
          ],
          "scattermap": [
           {
            "marker": {
             "colorbar": {
              "outlinewidth": 0,
              "ticks": ""
             }
            },
            "type": "scattermap"
           }
          ],
          "scattermapbox": [
           {
            "marker": {
             "colorbar": {
              "outlinewidth": 0,
              "ticks": ""
             }
            },
            "type": "scattermapbox"
           }
          ],
          "scatterpolar": [
           {
            "marker": {
             "colorbar": {
              "outlinewidth": 0,
              "ticks": ""
             }
            },
            "type": "scatterpolar"
           }
          ],
          "scatterpolargl": [
           {
            "marker": {
             "colorbar": {
              "outlinewidth": 0,
              "ticks": ""
             }
            },
            "type": "scatterpolargl"
           }
          ],
          "scatterternary": [
           {
            "marker": {
             "colorbar": {
              "outlinewidth": 0,
              "ticks": ""
             }
            },
            "type": "scatterternary"
           }
          ],
          "surface": [
           {
            "colorbar": {
             "outlinewidth": 0,
             "ticks": ""
            },
            "colorscale": [
             [
              0,
              "#0d0887"
             ],
             [
              0.1111111111111111,
              "#46039f"
             ],
             [
              0.2222222222222222,
              "#7201a8"
             ],
             [
              0.3333333333333333,
              "#9c179e"
             ],
             [
              0.4444444444444444,
              "#bd3786"
             ],
             [
              0.5555555555555556,
              "#d8576b"
             ],
             [
              0.6666666666666666,
              "#ed7953"
             ],
             [
              0.7777777777777778,
              "#fb9f3a"
             ],
             [
              0.8888888888888888,
              "#fdca26"
             ],
             [
              1,
              "#f0f921"
             ]
            ],
            "type": "surface"
           }
          ],
          "table": [
           {
            "cells": {
             "fill": {
              "color": "#EBF0F8"
             },
             "line": {
              "color": "white"
             }
            },
            "header": {
             "fill": {
              "color": "#C8D4E3"
             },
             "line": {
              "color": "white"
             }
            },
            "type": "table"
           }
          ]
         },
         "layout": {
          "annotationdefaults": {
           "arrowcolor": "#2a3f5f",
           "arrowhead": 0,
           "arrowwidth": 1
          },
          "autotypenumbers": "strict",
          "coloraxis": {
           "colorbar": {
            "outlinewidth": 0,
            "ticks": ""
           }
          },
          "colorscale": {
           "diverging": [
            [
             0,
             "#8e0152"
            ],
            [
             0.1,
             "#c51b7d"
            ],
            [
             0.2,
             "#de77ae"
            ],
            [
             0.3,
             "#f1b6da"
            ],
            [
             0.4,
             "#fde0ef"
            ],
            [
             0.5,
             "#f7f7f7"
            ],
            [
             0.6,
             "#e6f5d0"
            ],
            [
             0.7,
             "#b8e186"
            ],
            [
             0.8,
             "#7fbc41"
            ],
            [
             0.9,
             "#4d9221"
            ],
            [
             1,
             "#276419"
            ]
           ],
           "sequential": [
            [
             0,
             "#0d0887"
            ],
            [
             0.1111111111111111,
             "#46039f"
            ],
            [
             0.2222222222222222,
             "#7201a8"
            ],
            [
             0.3333333333333333,
             "#9c179e"
            ],
            [
             0.4444444444444444,
             "#bd3786"
            ],
            [
             0.5555555555555556,
             "#d8576b"
            ],
            [
             0.6666666666666666,
             "#ed7953"
            ],
            [
             0.7777777777777778,
             "#fb9f3a"
            ],
            [
             0.8888888888888888,
             "#fdca26"
            ],
            [
             1,
             "#f0f921"
            ]
           ],
           "sequentialminus": [
            [
             0,
             "#0d0887"
            ],
            [
             0.1111111111111111,
             "#46039f"
            ],
            [
             0.2222222222222222,
             "#7201a8"
            ],
            [
             0.3333333333333333,
             "#9c179e"
            ],
            [
             0.4444444444444444,
             "#bd3786"
            ],
            [
             0.5555555555555556,
             "#d8576b"
            ],
            [
             0.6666666666666666,
             "#ed7953"
            ],
            [
             0.7777777777777778,
             "#fb9f3a"
            ],
            [
             0.8888888888888888,
             "#fdca26"
            ],
            [
             1,
             "#f0f921"
            ]
           ]
          },
          "colorway": [
           "#636efa",
           "#EF553B",
           "#00cc96",
           "#ab63fa",
           "#FFA15A",
           "#19d3f3",
           "#FF6692",
           "#B6E880",
           "#FF97FF",
           "#FECB52"
          ],
          "font": {
           "color": "#2a3f5f"
          },
          "geo": {
           "bgcolor": "white",
           "lakecolor": "white",
           "landcolor": "#E5ECF6",
           "showlakes": true,
           "showland": true,
           "subunitcolor": "white"
          },
          "hoverlabel": {
           "align": "left"
          },
          "hovermode": "closest",
          "mapbox": {
           "style": "light"
          },
          "paper_bgcolor": "white",
          "plot_bgcolor": "#E5ECF6",
          "polar": {
           "angularaxis": {
            "gridcolor": "white",
            "linecolor": "white",
            "ticks": ""
           },
           "bgcolor": "#E5ECF6",
           "radialaxis": {
            "gridcolor": "white",
            "linecolor": "white",
            "ticks": ""
           }
          },
          "scene": {
           "xaxis": {
            "backgroundcolor": "#E5ECF6",
            "gridcolor": "white",
            "gridwidth": 2,
            "linecolor": "white",
            "showbackground": true,
            "ticks": "",
            "zerolinecolor": "white"
           },
           "yaxis": {
            "backgroundcolor": "#E5ECF6",
            "gridcolor": "white",
            "gridwidth": 2,
            "linecolor": "white",
            "showbackground": true,
            "ticks": "",
            "zerolinecolor": "white"
           },
           "zaxis": {
            "backgroundcolor": "#E5ECF6",
            "gridcolor": "white",
            "gridwidth": 2,
            "linecolor": "white",
            "showbackground": true,
            "ticks": "",
            "zerolinecolor": "white"
           }
          },
          "shapedefaults": {
           "line": {
            "color": "#2a3f5f"
           }
          },
          "ternary": {
           "aaxis": {
            "gridcolor": "white",
            "linecolor": "white",
            "ticks": ""
           },
           "baxis": {
            "gridcolor": "white",
            "linecolor": "white",
            "ticks": ""
           },
           "bgcolor": "#E5ECF6",
           "caxis": {
            "gridcolor": "white",
            "linecolor": "white",
            "ticks": ""
           }
          },
          "title": {
           "x": 0.05
          },
          "xaxis": {
           "automargin": true,
           "gridcolor": "white",
           "linecolor": "white",
           "ticks": "",
           "title": {
            "standoff": 15
           },
           "zerolinecolor": "white",
           "zerolinewidth": 2
          },
          "yaxis": {
           "automargin": true,
           "gridcolor": "white",
           "linecolor": "white",
           "ticks": "",
           "title": {
            "standoff": 15
           },
           "zerolinecolor": "white",
           "zerolinewidth": 2
          }
         }
        },
        "title": {
         "text": "Score Distributions for Target AUC of 0.85 (Actual: 0.8497)"
        },
        "xaxis": {
         "title": {
          "text": "Score"
         }
        },
        "yaxis": {
         "title": {
          "text": "Density"
         }
        }
       }
      }
     },
     "metadata": {},
     "output_type": "display_data"
    }
   ],
   "source": [
    "# Verify the AUC\n",
    "labels = np.concatenate([np.zeros(len(scores_good)), np.ones(len(scores_bad))])\n",
    "scores = np.concatenate([scores_good, scores_bad])\n",
    "actual_auc = roc_auc_score(labels, scores)\n",
    "\n",
    "print(f\"Target AUC: {TARGET_AUC}\")\n",
    "print(f\"Actual AUC from generated scores: {actual_auc:.4f}\")\n",
    "\n",
    "# Visualize the distributions\n",
    "fig = go.Figure()\n",
    "\n",
    "fig.add_trace(go.Histogram(\n",
    "    x=scores_good,\n",
    "    name='Good Scores (Non-Defaulters)',\n",
    "    histnorm='probability density',\n",
    "    marker_color='blue',\n",
    "    opacity=0.7\n",
    "))\n",
    "\n",
    "fig.add_trace(go.Histogram(\n",
    "    x=scores_bad,\n",
    "    name='Bad Scores (Defaulters)',\n",
    "    histnorm='probability density',\n",
    "    marker_color='red',\n",
    "    opacity=0.7\n",
    "))\n",
    "\n",
    "fig.update_layout(\n",
    "    title_text=f'Score Distributions for Target AUC of {TARGET_AUC} (Actual: {actual_auc:.4f})',\n",
    "    xaxis_title='Score',\n",
    "    yaxis_title='Density',\n",
    "    barmode='overlay',\n",
    "    legend_title='Population'\n",
    ")\n",
    "\n",
    "fig.show()"
   ]
  }
 ],
 "metadata": {
  "kernelspec": {
   "display_name": ".venv",
   "language": "python",
   "name": "python3"
  },
  "language_info": {
   "codemirror_mode": {
    "name": "ipython",
    "version": 3
   },
   "file_extension": ".py",
   "mimetype": "text/x-python",
   "name": "python",
   "nbconvert_exporter": "python",
   "pygments_lexer": "ipython3",
   "version": "3.13.7"
  }
 },
 "nbformat": 4,
 "nbformat_minor": 5
}
