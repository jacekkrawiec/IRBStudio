{
 "cells": [
  {
   "cell_type": "markdown",
   "id": "5399d0ce",
   "metadata": {},
   "source": [
    "# Demonstrating the Beta Mixture Model Fitter\n",
    "\n",
    "This notebook provides a practical example of how to use the `BetaMixtureFitter` from the `irbstudio.simulation.distribution` module. \n",
    "\n",
    "The process involves:\n",
    "1. **Generating Synthetic Data**: We'll create a bimodal dataset by combining samples from two different Beta distributions. This mimics a portfolio with two distinct clusters of risk (e.g., 'low risk' and 'medium risk').\n",
    "2. **Fitting the Model**: We'll instantiate and fit the `BetaMixtureFitter` to this synthetic data.\n",
    "3. **Visualizing the Results**: We'll plot the original data's histogram against the probability density function (PDF) of the fitted mixture model to visually assess the quality of the fit."
   ]
  },
  {
   "cell_type": "code",
   "execution_count": 1,
   "id": "8b8136e6",
   "metadata": {},
   "outputs": [
    {
     "name": "stdout",
     "output_type": "stream",
     "text": [
      "Imports successful.\n"
     ]
    }
   ],
   "source": [
    "import numpy as np\n",
    "import pandas as pd\n",
    "import plotly.graph_objects as go\n",
    "from scipy.stats import beta\n",
    "\n",
    "# Add the project root to the Python path to allow importing irbstudio\n",
    "import sys\n",
    "import os\n",
    "module_path = os.path.abspath(os.path.join('..'))\n",
    "if module_path not in sys.path:\n",
    "    sys.path.append(module_path)\n",
    "\n",
    "from irbstudio.simulation.distribution import BetaMixtureFitter\n",
    "\n",
    "print(\"Imports successful.\")"
   ]
  },
  {
   "cell_type": "markdown",
   "id": "57d974ce",
   "metadata": {},
   "source": [
    "### 1. Generate Synthetic Bimodal Data"
   ]
  },
  {
   "cell_type": "code",
   "execution_count": 5,
   "id": "46d89200",
   "metadata": {},
   "outputs": [
    {
     "name": "stdout",
     "output_type": "stream",
     "text": [
      "Generated 1000 data points.\n",
      "Data mean: 0.0501\n"
     ]
    }
   ],
   "source": [
    "np.random.seed(42)\n",
    "\n",
    "# Define the parameters for two underlying Beta distributions\n",
    "# Component 1: Represents a 'low-risk' group\n",
    "a1, b1 = 2, 50  # Low mean, low variance\n",
    "size1 = 950\n",
    "\n",
    "# Component 2: Represents a 'medium-risk' group\n",
    "a2, b2 = 10, 30 # Higher mean, higher variance\n",
    "size2 = 50\n",
    "\n",
    "# Generate data from each component\n",
    "data1 = np.random.beta(a=a1, b=b1, size=size1)\n",
    "data2 = np.random.beta(a=a2, b=b2, size=size2)\n",
    "\n",
    "# Combine them into a single dataset\n",
    "synthetic_data = np.concatenate([data1, data2])\n",
    "\n",
    "print(f\"Generated {len(synthetic_data)} data points.\")\n",
    "print(f\"Data mean: {synthetic_data.mean():.4f}\")"
   ]
  },
  {
   "cell_type": "markdown",
   "id": "de831db7",
   "metadata": {},
   "source": [
    "### 2. Fit the Beta Mixture Model"
   ]
  },
  {
   "cell_type": "code",
   "execution_count": 6,
   "id": "5847b1bf",
   "metadata": {},
   "outputs": [
    {
     "name": "stdout",
     "output_type": "stream",
     "text": [
      "2025-09-09 14:37:56 - irbstudio.simulation.distribution - INFO - Converged after 7 iterations.\n",
      "Fitted Model Parameters:\n",
      "  Component 1:\n",
      "    Weight: 0.9530\n",
      "    Alpha:  2.1350\n",
      "    Beta:   51.5835\n",
      "  Component 2:\n",
      "    Weight: 0.0470\n",
      "    Alpha:  12.6203\n",
      "    Beta:   36.0280\n",
      "Fitted Model Parameters:\n",
      "  Component 1:\n",
      "    Weight: 0.9530\n",
      "    Alpha:  2.1350\n",
      "    Beta:   51.5835\n",
      "  Component 2:\n",
      "    Weight: 0.0470\n",
      "    Alpha:  12.6203\n",
      "    Beta:   36.0280\n"
     ]
    }
   ],
   "source": [
    "# Initialize the fitter with 2 components\n",
    "fitter = BetaMixtureFitter(n_components=2, max_iter=150, tol=1e-5)\n",
    "\n",
    "# Fit the model to our data\n",
    "fitter.fit(synthetic_data)\n",
    "\n",
    "# Print the learned parameters\n",
    "print(\"Fitted Model Parameters:\")\n",
    "for i in range(fitter.n_components):\n",
    "    print(f\"  Component {i+1}:\")\n",
    "    print(f\"    Weight: {fitter.weights_[i]:.4f}\")\n",
    "    print(f\"    Alpha:  {fitter.alphas_[i]:.4f}\")\n",
    "    print(f\"    Beta:   {fitter.betas_[i]:.4f}\")"
   ]
  },
  {
   "cell_type": "markdown",
   "id": "b49deaa3",
   "metadata": {},
   "source": [
    "### 3. Visualize the Fit\n",
    "\n",
    "Now, let's plot the histogram of our synthetic data and overlay the probability density function (PDF) of the fitted mixture model. A good fit means the combined PDF curve should closely follow the shape of the histogram."
   ]
  },
  {
   "cell_type": "code",
   "execution_count": 7,
   "id": "37544cad",
   "metadata": {},
   "outputs": [
    {
     "data": {
      "application/vnd.plotly.v1+json": {
       "config": {
        "plotlyServerURL": "https://plot.ly"
       },
       "data": [
        {
         "histnorm": "probability density",
         "marker": {
          "color": "#a9d1f7"
         },
         "name": "Synthetic Data",
         "opacity": 0.7,
         "type": "histogram",
         "x": {
          "bdata": "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",
          "dtype": "f8"
         }
        },
        {
         "line": {
          "color": "navy",
          "width": 3
         },
         "name": "Fitted Mixture PDF",
         "type": "scatter",
         "x": {
          "bdata": "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",
          "dtype": "f8"
         },
         "y": {
          "bdata": "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",
          "dtype": "f8"
         }
        },
        {
         "line": {
          "color": "red",
          "dash": "dash"
         },
         "name": "Component 1 PDF",
         "type": "scatter",
         "x": {
          "bdata": "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",
          "dtype": "f8"
         },
         "y": {
          "bdata": "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",
          "dtype": "f8"
         }
        },
        {
         "line": {
          "color": "green",
          "dash": "dash"
         },
         "name": "Component 2 PDF",
         "type": "scatter",
         "x": {
          "bdata": "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",
          "dtype": "f8"
         },
         "y": {
          "bdata": "AAAAAAAAAACm0TGaRGXyOo5p6C59Tas7AHX7WTroFjyuRc1oYo9jPCgr7Tvmjp888syvr8yuzzweNFBiXe32PP7KIMWWHBo9om13X6rDOD0ASZEAKFRUPWodYYgBsm09uD6ZJbqxgz23aqjoCBeYPcXiI6GPgKs9j8wZOLSVvT3j50BQ9TfOPf59U9AWft09dEwW14al6z3wf96ZOAD5PcVDsuTw4wU+FhIQU+OdEj6l2phH/dYePt+3bOq+7yg+YYKlF1e5Mz6hY/05x5M+PiPKDo11Q0c+wkeKIYllUT55lYdLIJtZPgcLNcgFkWI+zvTTAMyNaj6mNBofjL5yPjFqUg3ZJHo+QM8+XZwGgj4W3VB/l5eIPnthR/JSm5A+9gqK5UU3lj6VvAMCA3SdPljrfIm1W6M+plvEENo9qT5Y6wluo1SwPtnFh78m+rQ+s71etVHCuj7htFq6XvTAPk3TpjBzWcU+sy+xArW4yj708JWsV6DQPseTxVZxk9Q+tkD5gEVU2T5bnPa+uQXfPtB2ON215+I+PRM+MRTv5j7Oq37ZNLLrPiY697y2pvA+R9ja0Djw8z7A67WMTcf3PvjRtouaP/w++Ho+jHK3AD+1Ohc2nbYDP/+4hoyMKgc/tkIzwc0hCz96W1KgUawPP4JhWFPBbRI/haAbtC1hFT9NnweZvroYPzbhIGmjhRw/RSde2/pmID/ynptSYtAiP55VZh4QhiU/DEGtT5KPKD++2UKIAvUrP4iAq2ELvy8/8WzJ13b7MT/ATFzLQlM0P6Pcibgn7DY/fBXxO7bLOT/7iS2W0/c8P4md8N1dO0A/4LzrnoEnQj/mQNuCzENEP4ub4/Hjk0Y/i0Q49ZsbST/qLQ/K995LP10vNVgq4k4/YPFfRcsUUT8xVLbE59xSP+rPqGjMy1Q/bx/OFfPjVj8L3ZjA7SdZP7DGD0Vmmls/2wDzKx4+Xj+823Au94pgP2lGkV5jEmI/pGxg3da2Yz9wauDh33llPxGbnlQXXWc/k9QodyBiaT/qRGOBqIprP0DPwTRm2G0/tzq4sowmcD+Xi788RXVxPzvCFu9E2XI/1Mm+uXdTdD+zvxz3zOR1P5enUhg3jnc/QzYNTatQeT8oVOomIS17Pwv9nziSJH0/x/cOsfk3fz/OUzj5KbSAP8hj6RJP24E/1auL5eoRgz80ItkifFiEP1+0MDOBr4U/bDoP+XcXhz9deUaT3ZCIP8CRFB4uHIo/hV0/c+S5iz9NQ1jpeWqNP+X1TRJmLo8/3C65PA+DkD8H0I0wC3mRP5TfA0BfeZI/7WVVX0KEkz8K80f66ZmUP9/G+tKJupU/beTm4FPmlj8OVyUweB2YP/3RD8EkYJk/OrtPaIWumj8MeG+vwwicP2aVAbYGb50/iBdxE3Phnj/D78ZcFTCgP1HW82um9aA/gOQE4HrBoT+2dlRln5OiP+Qt6h4fbKM/eEkdmgNLpD+nrcjCVDClP7UfGNgYHKY/n+L1YVQOpz/dgB8nCgeoP+8p6CM7Bqk/1KGugeYLqj96VAyPCRirPySywrifKqw/SIRrg6JDrT9xevCFCWOuP0+1zWTKiK8/cFARZ2xasD+B+Uk7k/OwP/iVgIvRj7E/fr2HNR4vsj9AtkUYb9GyP4In0RO5drM/0eD5CfAetD9ZsD3fBsq0P5IJKXzvd7U/8f4iz5ootj852KPO+Nu2P6hU1Xv4kbc/i26b5YdKuD95PwQslAW5PwNuHYQJw7k/DlctPNOCuj8z9k3A20S7P8JYZ58MCbw/Cj6HkE7PvD9/VJN4iZe9P3RaU3CkYb4/Bj/QyoUtvz/gNQUcE/u/Px3I758YZcA/dAHFMGLNwD+p9H8BWDbBPyJ2coLrn8E/TrFO1w0Kwj9ez1Hbr3TCP1wkiyXC38I/Wek9DTVLwz+ufFuu+LbDP9QfFO78IsQ/EB58fzGPxD/qQ0PohfvEP0qLfIXpZ8U/fd1zkEvUxT91x48jm0DGP8L/PD/HrMY/ZZzhzr4Yxz9H1tWtcITHP+4/YKzL78c/wlGzlL5ayD9wOuovOMXIPz7gAksnL8k/hg/Tu3qYyT+w0PZlIQHKP2vxtT8Kaco/vdDeViTQyj9ti5TVXjbLP9CtDgepm8s/l6FIXPL/yz8aFJ9wKmPMP9ClWQ5Bxcw/qzwfMyYmzT8vZFMUyoXNP041WyMd5M0/y0/IERBBzj9jfGjVk5zOP52mOKyZ9s4/D+Q5IBNPzz/6WycL8qXPP3voC5oo+88/5TJbqFQn0D/q14WGM1DQP4KyGoUqeNA/K0rWcTOf0D+EyQ9MSMXQP/ghGUZj6tA/MBmMxn4O0T8O+YNplTHRPxOkwwGiU9E/9NnHmZ900T/LgcV0iZTRP0vWkw9bs9E/K1yCIRDR0T8YkRqdpO3RP6tMzbAUCdI/idOLx1wj0j/BpUyJeTzSP+safNtnVNI/D+VY4SRr0j87mzz8rYDSP+l10MsAldI/B20uLhuo0j9r7+4/+7nSP7tyI1yfytI/oyA+HAba0j867eZXLujSP1hpviQX9dI/sacO1r8A0z8uk2r8JwvTP/oYPGVPFNM/0Y5BGjYc0z8hwvpg3CLTP8chBrpCKNM/Fndu4Gks0z/WqenIUi/TP2IKCaH+MNM/9aNbzm4x0z9sGoPtpDDTPyKaO9GiLtM/c2NXgWor0z95fK45/ibTP7IWA2lgIdM/PTjbr5Ma0z9cN1DfmhLTP6Gb1Pd4CdM/xfXwJzH/0j/HQfjKxvPSP4lmtGc959I/CmYLr5jZ0j+x0Z163MrSPxEWX8sMu9I/Iy8oyC2q0j+1V0W8Q5jSP0hD/xVThdI/VXIgZWBx0j8oLndZcFzSPym4VMGHRtI/tjYKiKsv0j/852O04BfSPw8gI2cs/9E/95V32ZPl0T8JgXhbHMvRP0YEnlLLr9E/RmM7OKaT0T+defqXsnbRPwbqWA72WNE/Z3cnR3Y60T9j9wv8OBvRPw1JBvND+9A/ULn4/Jza0D/KODT0SbnQPzLECLtQl9A/ol1aOrd00D9G7zpgg1HQPxxuiR67LdA/1o6WaWQJ0D9dtZ5tCsnPP/be2/ZGfs8/6GBhVooyzz9xVjBu4OXOPy/eVxhVmM4/ZiSNJPRJzj/xNdJVyfrNP3wBLGDgqs0/Mudn5kRazT9KLPF3AgnNP/6hto4kt8w/uMggjbZkzD+ZrRi8wxHMP/C9H0lXvss/l8B4RHxqyz+jIGKfPRbLP16tYSqmwco/Peuhk8Bsyj9kDmFllxfKP0CrcQQ1wsk/LCnNrqNsyT9G+Dd67RbJP3WI91Icwcg/xPeZ+jlryD/Gac8GUBXIP3/zVOBnv8c/BwPxwYppxz+GIIG3wRPHPxfqGJ0VvsY/rx0yHo9oxj9qgu20NhPGPziGZKkUvsU/AVILETFpxT/HHCPOkxTFP0yEPI9EwMQ/QKHJzkpsxD/jmL/SrRjEP+5gR6x0xcM/Vml9N6Zywz/y4D8bSSDDP/s+C8ljzsI//sPkfPx8wj/zl1I9GSzCP9QuYdu/28E/5Jq18vWLwT9xcKzpwDzBP0LehPEl7sA/S5uXBiqgwD/GS5nw0VLAP1b750IiBsA/6JfGuT50vz9w7J3Umt2+P3lyfsdgSL4/76wdHpi0vT9da7z/RyK9P7WcNjB3kbw/s+QjESwCvD9sLQijbHS7P/tvk4Y+6Lo/T+3v/aZduj8nFR7uqtS5P09XXeBOTbk/8B6hA5fHuD84NxEuh0O4P6TelN4iwbc/G8tnPm1Atz8BabgiacG2P6OcTg4ZRLY/cVU6M3/ItT/7P4l0nU61PzjrAmh11rQ/P7fqVwhgtD/x5MZEV+uzP+QkLOdieLM/EQWNsSsHsz8VogzSsZeyP9YCVDT1KbI/aYlpg/W9sT867IkrslOxP7clAlwq67A/I9cJCV2EsD+3lp3tSB+wPxFVsRrZd68/j2ibbIy0rj9aqrsFqPStP0CvG7cnOK0/69yx8QZ/rD8xQAHKQMmrP6nqsvvPFqs/NxUo7a5nqj+ZSgSz17upP0LlrhNEE6k//jbLiu1tqD+HtqZMzcunP8yWnEncLKc/hDluMRORpj+07o92avilP0KCaVHaYqU/kxuKw1rQpD8l/c6a40CkP6C7fHRstKM/34ZKwOwqoz/7Kl/DW6SiP4J1P5uwIKI/j7GtQOKfoT/v9XmK5yGhP9sEQzC3pqA/WYcnzUcuoD/d487EH3GfP2jN6rMLi54/u+TvEUCqnT/XBnVkqc6cP8UIHBE0+Js/xQkyYswmmz/Myy6LXlqaP/n8Eq3Wkpk/w3Ol2iDQmD8GXY8cKRKYPwBoV3XbWJc/kBM85SOklj+wLO1t7vOVP/+zJBYnSJU/9Vcf7bmglD+DuPQNk/2TPyq9z6KeXpM/vT0H6MjDkj/dTxcv/iySPzaQe+EqmpE/57xqgzsLkT+tCXS2HICQPwkZ/Xd28Y8/imhW7wfqjj90bTPjx+mNP73TIbGQ8Iw/LgoWCD3+iz9bhEzspxKLPx3E9LqsLYo/CS6nLSdPiT8LtKZd83aIP79u78btpIc/5zITS/PYhj8ZRuUz4RKGP5ZN9jWVUoU/3Jfhcu2XhD+R62x7yOKDPzb6e1EFM4M/N6bYaYOIgj+NQ9GtIuOBPxr8rXzDQoE/74f+rEangD+WXsGNjRCAP68jy87z/H4/fvRQ+dvhfT/BuaAWmc98P2xvipnxxXs/+KgR7azEej/klh51k8t5P+As8o5u2ng/xaRfkQjxdz/pns3MLA93P/oKAYunNHY/DA60DkZhdT8pBvuS1pR0P0TKeUooz3M/L0NrXgsQcz9gY33tUFdyPy6IgwrLpHE/Z0MBu0z4cD9Ue4/1qVFwPzOmO0BvYW8//mokHJcqbj+/vpD8eP5sP45m5jHE3Gs/FjTD2inFaj+7V1HfXLdpP82XaewRs2g/i7yGbv+3Zz8+X42M3cVmP0s5ayJm3GU/2P+Qu1T7ZD/etkmNZiJkP1Ze8nBaUWM/270U3vCHYj+6/mfk68VhP9S1uSUPC2E/fNvBzx9XYD8nVMgryVNfP292wlVLBl4/RlPzdFnFXD8m3QrGiZBbP8chA151Z1o/yGksHbhJWT+H/C2i8DZYPxBI/zzALlc/Qw7d4cowVj+vAD4ctzxVPygdygEuUlQ/nPNXJdtwUz+Kz/KJbJhSP4ms7JWSyFE/9Kb+BQABUT+2hXrgaUFQP0KgH9EOE08/MIBNIySyTT83lKblil9MP2uMxHS+Gks/z2MFQz7jST/DvxnAjbhIP72T0kA0mkc/d0Ux57yHRj/CSb2KtoBFP8EDIqGzhEQ/DnUXJ0qTQz9tH5iJE6xCP59CZo+szkE/xHXiQrX6QD9+ZTXc0C9AP6q5nFdL2z4/SxJwCrpnPT9/k4lURgQ8P5dSJ21OsDo/0AHeFjZrOT/hNgt4ZjQ4PzsS/vNNCzc/5m/XBGDvNT+HfSIWFeA0Pw1VJmDq3DM/xALxw2HlMj9YHRyoAfkxP7PnStZUFzE/x7dhWeo/MD+1Yey4quQuP1lj7xRaXC0/gEce3RjmKz8KbWqqJIEqP57G+1vCLCk/I+kv3D3oJz8cS/7m6bImP6SfvtEfjCU/o/ZNVD9zJD/rE49TrmcjP6Q2Qq3YaCI/7VowBTB2IT9NzKWTK48gP1Vzb+qPZh8/AKGg9w3EHT//g/kB3zUcPyrp8HIauxo/RAnhE+FSGT+aPfW5XPwXP3hKdPS/thY/9fhcvUWBFT9tk0osMVsUP2W7livNQxM/CfOtL2w6Ej++IIzwZz4RP5g9ViUhTxA/dLUMhP7XDj93LT5u4CgNP5xEt2bQjws//c2izsILCj/d4fCVt5sIP69vH8q5Pgc/lOekKN/zBT+hZee0R7oEP7jpqlEdkQM/hkbhXZN3Aj+7ncZU5mwBP+9pNXFbcAA/PZM6qIAC/z4o4g9c1T39Ph/JL9dvkfs+WazZyRn8+T5hjbMfq3z4PqqHsmkJEvc+Y9pYTSe79T7bUSP5A3f0PtV+AJ6qRPM+WsKs7TEj8j43z86duxHxPuDfsO9zD/A+5AzneCI37j56NC8Lp2rsPqXsehMIuOo+dLTwuukd6T5o4CoQAZvnPgBLbUgTLuY+4E5ECPXV5D53HlCziZHjPpLPAMPCX+I+D9oIJJ8/4T5vHU2aKjDgPiuoNVb6YN4+0HXaGnV/3D5KAxxAI7raPsHZucp3D9k+2c4YCfp91z4CCkSgRATWPuOdFqMEodQ+4t4ws/hS0z6BNF8r8BjSPgmgGlPK8dA+tEabNeu4zz5oWRXB3a/NPuIJx3mBxss+rUknrwX7yT40QWOHskvIPgJFPMbntsY+/2HSoRs7xT4MVNGk2dbDPqINep3BiMI+6UEHmYZPwT6adO/q7SnAPqByFn+cLb4+nmZUcx0qvD5Yu0o1TEe6PgnEAekzg7g+RQ9ny/vbtj4ivVq85U+1Pua2ddpM3bM+3Q3KL6SCsj6DjuVudT6xPkofZb9fD7A+xtjbMi3orT6BI89ewdarPugVscot6Kk+dxuYqkYaqD4AXVzAAGumPtxxIZVv2KQ+IyOhycNgoz67VDF8SQKiPihYicNmu6A+nI2pejQVnz6tB1df89ycPsSWH3lhy5o+e0s4Tf/dmD5CdCdMdBKXPrHLH5uMZpU+rhkc+zbYkz6+7VDMgmWSPvUqmSyeDJE+coQhX6iXjz56Kz5eFkONPvQngGaGGIs+H4LQ3ygViT4DFtmvWzaHPjzuxYeneYU+ufP5V73cgz6GMc/nc12CPpO6kI/F+YA+xl7iJZxffz4kIqo0kft8PjTbtpIbxHo+9ylE4iO2eD7u0Ki5xs52PsEYSm5RC3U+T3XGDj9pcz4eqNiJNeZxPszmkv8CgHA+2nNddTZpbj75XJSfKgRsPs5QC8FSzWk+qKoeAV3BZz5FYYN1Md1lPoEbJGnuHWQ+1RpF3OSAYj7Ws8A6lQNhPgJAropYR18+N01nVgC+XD40NN2hG2daPiPX7oTsPlg+bHbomvhBVj4t2omDBG1UPo+l7asPvVI+E08nW1AvUT60Y0v9X4JPPjP9O2WP4Ew+o0DsBbp0Sj7f2azCvTpIPnP4cZrFLkY+7lHyVURNRD4/kx+O75JCPs5UoQW7/EA+4g+PoKgPPz7EBWOHPWM8PlevVllf7zk+P0cIipWvNz57kbvLvZ81PkoGYuUFvDM+07Tw8uUAMj4MCVIJG2swPuzWSm9E7y0+Vya6v2dHKz5+xEfCftkoPux1kx3OoCY+HreJ3fiYJD6tEkV2+b0iPr3cEUQbDCE+fem+AOn/Hj43ItRHwSwcPsuiwV32mBk+eLJ7oDU/Fz42gePLmRoVPnVK0p+iJhM+SaGlIC1fET5gapzP2IAPPm+fGPXFjQw+BrtKO7neCT6+Fek60W0HPqiujASpNQU+Kd7oUk4xAz6oPml4OFwBPhyvDvZ/ZP89B74OpC1f/D1UQjd0gqH5PelaYyoeJfc9agLIlyvk9D3gI25OVdnyPQFU1DO7//A9p8bvxNGl7j0PoUGWmZ3rPTEErA9g3+g9RUCwpl1k5j373dQxYybkPV8iFiLNH+I9mwUQwXdL4D0/DHPAaEndPQAW281+Tto9+sOUXG6e1z3LUk82JzLVPQ4TCc88A9M9T4O9G9gL0T3+tn0nVY3OPXzI1orEXcs93s1K0T2AyD3Izxm2z+zFPVAy7eZFnMM9KJT6NhiIwT0kFVF9tlS/PUx+zJRk+7s9zc8/+4T6uD1qV5UhTkm2PdO52ibN37M9xy+mOdK2sT16T+5evY+vPUsQlFspGqw9z3XbhlACqT3vWJamoz6mPXeKfWiDxqM9a77K1ymSoT1Pp1KxKzWfPfPBlPrwsps9pMj0F0iSmD2EC8ch+ciVPTjNZrLTTZM9OGdXcJUYkT2k7vTkpUOOPWBCyZLFxYo9TFWJ+pSrhz1ggsSnWuqEPUYI8mt5eII9xxNPHVRNgD0H61oLaMJ8PQjhpIVjWnk9SULGvkBWdj1sAZXg9KpzPYngGA6iTnE9gtaFNvFwbj2TrhyRNsFqPXvZwnQMgGc95FHc1PCgZD1uKmOuvhhiPd6fROwSu189jAQEZvjMWz2LC3fUd1dYPe44BxeaTFU9hfp+JfefUj3JMWo3i0ZQPWZirKkgbUw9KUKPwrfOSD0I5k94f6JFPYih1Dbd2kI9/mKam8ZrQD1gk/BnKpU8Pc4799u92zg9uClwg6WaNT3+Y3dJMsMyPWLbJchvSDA9tOYjLOQ9LD3vOJ0WUnkoPUrP7ddwMSU9F2+z6ahWIj0OIv5PibYfPdr4qYpwZhs9bS7PBOCnFz0k7437R2gUPZ3RogJilxE9q1E2DNdNDj1ksph10BQKPd9blj7XbQY9Kh+/jNFFAz30mL9xD4wAPXU40z7/Y/w8zvLj3tlV+DwrgXKBh9f0PELRmY681fE8mt9hE1x/7jyTIQPVgg3qPJwxdjuMPOY8tojBHW/24jytDiV7DSjgPLRxafGpgds80D7DQdZk1zz9WgQCyODTPDIIddID4NA87nNr3PSfzDyaVFXNTEHIPCdr2p1siMQ88ljLp4NdwTwcmHCrIVi9PG9dyaHhxLg8q1tx1vXitDwqyDTfVZixPHXBpuxYna08k8ISzqrlqDwyxcVo2eikPPtKrpDZiqE8orOL92ZnnTyHHiJW4J2YPO3um2Q1lpQ8MVY0jaUykTxCqQI+ubOMPJAMNPyf7Ic8h1Jo12TrgzyoYWzC9pCAPO7B6XH9hXs882QqSlvWdjxb+H0pR+1yPPNwrx+zVW88cR99U0boaTxR2PoX2mRlPElUY7cppWE8ZZVg3QMSXTxWCKrzpOpXPMXZGfzFplM8lBuPhkwgUDxwyqt/nW5KPERhOlM0okU8HrmwdcCuQTw1MW5jDd48PBBKM4r9hzc8yEo106YnMzwxtXUqKSQvPAkm35M3Ryk8vHcytVB9JDzeMVZldpUgPGvtv2xGzho8hl9N9r2hFTwPIEh+HG4RPDUqU9TNCww8xQo/FmiHBjwaTzZfkhECPKyRO5rH7/w792JwtyUi9zsGCT3/tnbyO1gTYqurbO07xI5hJhZo5zv99CtXdpbiO9cAoEyReN076iw4LoBS1zvlkSbXcmzSO0mj2gstDs07oXFyEo3exjucVE4tjPfBO9qC7eSNLbw7kvQLmcgNtjvw6RGWMTqxO1PSUK5+3Ko7OG5xKlLmpDtZkY49cTqgO424r3l3Jpk70WcNVbFykzs6QMsGeAOOO9ACK/gUHIc7T45xIEnBgTsUEOCXuTh7O2tQ9TkZ0nQ7skzpUuHGbztmcCkuVzFoO8CIWbkHYGI7ILx7KIbYWzvgl2E3GwxVO8UNEOP4vE87bidOdYbeRzvPBL9ttudBO8lju/XQyjo7u4PUlu39MzuI/SLJJMEtO3D2Zl3IFCY70Z4Bkj5XIDuaMAmizh0YO9tymHiLvhE7RNG8aNIICjv2wFSclAoDO36zS/uLxPs6gFy7xvIu9Dp5HWI0Zz/tOvL2A8dcH+U6xzGXNXpo3jpiNowuYdDVOm7c+uGXMM86gIqcUi04xjpFCd7Iaou/OiyF8SNST7Y6wuQMjIBwrzp9pVLCdBGmOkjKwxsr3J46Y2mHs9d9lTrA9e0wHdCNOqQd19Kql4Q6iN4b0KpTfDq6a72xE2ZzOn+K04Sdc2o6soBLMObzYTqzlQMXlkFYOhnKABoNT1A6PGnezgHTRTrp+iVvVw89OgszEHW2PzM6vd4zqBReKTptu+BAVKAgOkEN85HOrBU6QtpPsCsZDDrYaC/MlRsCOnsxPVB1M/c5FHjSvvWL7TmJHrAjbLLiOdSDzszrgtc5J9dA3RdfzTmFkLJ45DjCOQ0iKS8YdLY5w3cGmkR4qzld04tKE66gOd/0IMZ4GpQ5T7L8+nAKiDnbxRlVx4R8ObhWpteAxnA5qjgapi2RYzkg4AqaXZ9WORPVVSfc6kk5ifA7+OBpPTmBH0bDYYcwOcHJ5wfuYyI50wMw2M8/FDkoTybYgQ4GOVtWvUIYwvc4CgNJ08NL6TjrNpkQfJzaOKalVLHKpcs4A+BWPa1avDhkKDaqfbCsOOGXoxbPn5w4706koSkljDiLFaxDkEF7OM01u/q9+mk4v0WOsgxbWDjf/xjh/3BGODzXwzJ2TjQ4trLYzI8HIjiT3uuGwGIPOMCWps4Vwfo3/k9uVNhP5jfwKz8g5S7SN7g59YsS7bw3PQh4cyBtpjcjL43hSOyQN3YE8Ynd0Xg3Zr3oGTWoYTeEI4hCs1NIN8YTDa+0MTA3HuC1OcTJFDckMI9Rdar5Nu4WVhrrZN42iJ1/mrI1wTay1uol5pKiNkPLXY5kCIM2OrvBuWVwYjadTCD5C89ANk5/wqX+rRw2YlwTBMbB9jUsGbFkRK3QNb9VfPPnY6Y1naXaC/1GezWHOQQeB9JNNfrVvuZ63xw1Q2xmz7Nf6DShKU3sZZqxNNGX9ilaQXU0+r/kmP/YNDRst1If1ATwM6VBQDw5aKIz2sGcesm/TTNnFadBqB3vMmSjAkEEv4IySvlNM4fwBTKEWismuiRzMW2LZfEz+78wgzlwlEZJ1i+rsabL1Q2QLpezJUZn3F8sAAAAAAAAAAA=",
          "dtype": "f8"
         }
        }
       ],
       "layout": {
        "legend": {
         "title": {
          "text": "Components"
         }
        },
        "template": {
         "data": {
          "bar": [
           {
            "error_x": {
             "color": "#2a3f5f"
            },
            "error_y": {
             "color": "#2a3f5f"
            },
            "marker": {
             "line": {
              "color": "white",
              "width": 0.5
             },
             "pattern": {
              "fillmode": "overlay",
              "size": 10,
              "solidity": 0.2
             }
            },
            "type": "bar"
           }
          ],
          "barpolar": [
           {
            "marker": {
             "line": {
              "color": "white",
              "width": 0.5
             },
             "pattern": {
              "fillmode": "overlay",
              "size": 10,
              "solidity": 0.2
             }
            },
            "type": "barpolar"
           }
          ],
          "carpet": [
           {
            "aaxis": {
             "endlinecolor": "#2a3f5f",
             "gridcolor": "#C8D4E3",
             "linecolor": "#C8D4E3",
             "minorgridcolor": "#C8D4E3",
             "startlinecolor": "#2a3f5f"
            },
            "baxis": {
             "endlinecolor": "#2a3f5f",
             "gridcolor": "#C8D4E3",
             "linecolor": "#C8D4E3",
             "minorgridcolor": "#C8D4E3",
             "startlinecolor": "#2a3f5f"
            },
            "type": "carpet"
           }
          ],
          "choropleth": [
           {
            "colorbar": {
             "outlinewidth": 0,
             "ticks": ""
            },
            "type": "choropleth"
           }
          ],
          "contour": [
           {
            "colorbar": {
             "outlinewidth": 0,
             "ticks": ""
            },
            "colorscale": [
             [
              0,
              "#0d0887"
             ],
             [
              0.1111111111111111,
              "#46039f"
             ],
             [
              0.2222222222222222,
              "#7201a8"
             ],
             [
              0.3333333333333333,
              "#9c179e"
             ],
             [
              0.4444444444444444,
              "#bd3786"
             ],
             [
              0.5555555555555556,
              "#d8576b"
             ],
             [
              0.6666666666666666,
              "#ed7953"
             ],
             [
              0.7777777777777778,
              "#fb9f3a"
             ],
             [
              0.8888888888888888,
              "#fdca26"
             ],
             [
              1,
              "#f0f921"
             ]
            ],
            "type": "contour"
           }
          ],
          "contourcarpet": [
           {
            "colorbar": {
             "outlinewidth": 0,
             "ticks": ""
            },
            "type": "contourcarpet"
           }
          ],
          "heatmap": [
           {
            "colorbar": {
             "outlinewidth": 0,
             "ticks": ""
            },
            "colorscale": [
             [
              0,
              "#0d0887"
             ],
             [
              0.1111111111111111,
              "#46039f"
             ],
             [
              0.2222222222222222,
              "#7201a8"
             ],
             [
              0.3333333333333333,
              "#9c179e"
             ],
             [
              0.4444444444444444,
              "#bd3786"
             ],
             [
              0.5555555555555556,
              "#d8576b"
             ],
             [
              0.6666666666666666,
              "#ed7953"
             ],
             [
              0.7777777777777778,
              "#fb9f3a"
             ],
             [
              0.8888888888888888,
              "#fdca26"
             ],
             [
              1,
              "#f0f921"
             ]
            ],
            "type": "heatmap"
           }
          ],
          "histogram": [
           {
            "marker": {
             "pattern": {
              "fillmode": "overlay",
              "size": 10,
              "solidity": 0.2
             }
            },
            "type": "histogram"
           }
          ],
          "histogram2d": [
           {
            "colorbar": {
             "outlinewidth": 0,
             "ticks": ""
            },
            "colorscale": [
             [
              0,
              "#0d0887"
             ],
             [
              0.1111111111111111,
              "#46039f"
             ],
             [
              0.2222222222222222,
              "#7201a8"
             ],
             [
              0.3333333333333333,
              "#9c179e"
             ],
             [
              0.4444444444444444,
              "#bd3786"
             ],
             [
              0.5555555555555556,
              "#d8576b"
             ],
             [
              0.6666666666666666,
              "#ed7953"
             ],
             [
              0.7777777777777778,
              "#fb9f3a"
             ],
             [
              0.8888888888888888,
              "#fdca26"
             ],
             [
              1,
              "#f0f921"
             ]
            ],
            "type": "histogram2d"
           }
          ],
          "histogram2dcontour": [
           {
            "colorbar": {
             "outlinewidth": 0,
             "ticks": ""
            },
            "colorscale": [
             [
              0,
              "#0d0887"
             ],
             [
              0.1111111111111111,
              "#46039f"
             ],
             [
              0.2222222222222222,
              "#7201a8"
             ],
             [
              0.3333333333333333,
              "#9c179e"
             ],
             [
              0.4444444444444444,
              "#bd3786"
             ],
             [
              0.5555555555555556,
              "#d8576b"
             ],
             [
              0.6666666666666666,
              "#ed7953"
             ],
             [
              0.7777777777777778,
              "#fb9f3a"
             ],
             [
              0.8888888888888888,
              "#fdca26"
             ],
             [
              1,
              "#f0f921"
             ]
            ],
            "type": "histogram2dcontour"
           }
          ],
          "mesh3d": [
           {
            "colorbar": {
             "outlinewidth": 0,
             "ticks": ""
            },
            "type": "mesh3d"
           }
          ],
          "parcoords": [
           {
            "line": {
             "colorbar": {
              "outlinewidth": 0,
              "ticks": ""
             }
            },
            "type": "parcoords"
           }
          ],
          "pie": [
           {
            "automargin": true,
            "type": "pie"
           }
          ],
          "scatter": [
           {
            "fillpattern": {
             "fillmode": "overlay",
             "size": 10,
             "solidity": 0.2
            },
            "type": "scatter"
           }
          ],
          "scatter3d": [
           {
            "line": {
             "colorbar": {
              "outlinewidth": 0,
              "ticks": ""
             }
            },
            "marker": {
             "colorbar": {
              "outlinewidth": 0,
              "ticks": ""
             }
            },
            "type": "scatter3d"
           }
          ],
          "scattercarpet": [
           {
            "marker": {
             "colorbar": {
              "outlinewidth": 0,
              "ticks": ""
             }
            },
            "type": "scattercarpet"
           }
          ],
          "scattergeo": [
           {
            "marker": {
             "colorbar": {
              "outlinewidth": 0,
              "ticks": ""
             }
            },
            "type": "scattergeo"
           }
          ],
          "scattergl": [
           {
            "marker": {
             "colorbar": {
              "outlinewidth": 0,
              "ticks": ""
             }
            },
            "type": "scattergl"
           }
          ],
          "scattermap": [
           {
            "marker": {
             "colorbar": {
              "outlinewidth": 0,
              "ticks": ""
             }
            },
            "type": "scattermap"
           }
          ],
          "scattermapbox": [
           {
            "marker": {
             "colorbar": {
              "outlinewidth": 0,
              "ticks": ""
             }
            },
            "type": "scattermapbox"
           }
          ],
          "scatterpolar": [
           {
            "marker": {
             "colorbar": {
              "outlinewidth": 0,
              "ticks": ""
             }
            },
            "type": "scatterpolar"
           }
          ],
          "scatterpolargl": [
           {
            "marker": {
             "colorbar": {
              "outlinewidth": 0,
              "ticks": ""
             }
            },
            "type": "scatterpolargl"
           }
          ],
          "scatterternary": [
           {
            "marker": {
             "colorbar": {
              "outlinewidth": 0,
              "ticks": ""
             }
            },
            "type": "scatterternary"
           }
          ],
          "surface": [
           {
            "colorbar": {
             "outlinewidth": 0,
             "ticks": ""
            },
            "colorscale": [
             [
              0,
              "#0d0887"
             ],
             [
              0.1111111111111111,
              "#46039f"
             ],
             [
              0.2222222222222222,
              "#7201a8"
             ],
             [
              0.3333333333333333,
              "#9c179e"
             ],
             [
              0.4444444444444444,
              "#bd3786"
             ],
             [
              0.5555555555555556,
              "#d8576b"
             ],
             [
              0.6666666666666666,
              "#ed7953"
             ],
             [
              0.7777777777777778,
              "#fb9f3a"
             ],
             [
              0.8888888888888888,
              "#fdca26"
             ],
             [
              1,
              "#f0f921"
             ]
            ],
            "type": "surface"
           }
          ],
          "table": [
           {
            "cells": {
             "fill": {
              "color": "#EBF0F8"
             },
             "line": {
              "color": "white"
             }
            },
            "header": {
             "fill": {
              "color": "#C8D4E3"
             },
             "line": {
              "color": "white"
             }
            },
            "type": "table"
           }
          ]
         },
         "layout": {
          "annotationdefaults": {
           "arrowcolor": "#2a3f5f",
           "arrowhead": 0,
           "arrowwidth": 1
          },
          "autotypenumbers": "strict",
          "coloraxis": {
           "colorbar": {
            "outlinewidth": 0,
            "ticks": ""
           }
          },
          "colorscale": {
           "diverging": [
            [
             0,
             "#8e0152"
            ],
            [
             0.1,
             "#c51b7d"
            ],
            [
             0.2,
             "#de77ae"
            ],
            [
             0.3,
             "#f1b6da"
            ],
            [
             0.4,
             "#fde0ef"
            ],
            [
             0.5,
             "#f7f7f7"
            ],
            [
             0.6,
             "#e6f5d0"
            ],
            [
             0.7,
             "#b8e186"
            ],
            [
             0.8,
             "#7fbc41"
            ],
            [
             0.9,
             "#4d9221"
            ],
            [
             1,
             "#276419"
            ]
           ],
           "sequential": [
            [
             0,
             "#0d0887"
            ],
            [
             0.1111111111111111,
             "#46039f"
            ],
            [
             0.2222222222222222,
             "#7201a8"
            ],
            [
             0.3333333333333333,
             "#9c179e"
            ],
            [
             0.4444444444444444,
             "#bd3786"
            ],
            [
             0.5555555555555556,
             "#d8576b"
            ],
            [
             0.6666666666666666,
             "#ed7953"
            ],
            [
             0.7777777777777778,
             "#fb9f3a"
            ],
            [
             0.8888888888888888,
             "#fdca26"
            ],
            [
             1,
             "#f0f921"
            ]
           ],
           "sequentialminus": [
            [
             0,
             "#0d0887"
            ],
            [
             0.1111111111111111,
             "#46039f"
            ],
            [
             0.2222222222222222,
             "#7201a8"
            ],
            [
             0.3333333333333333,
             "#9c179e"
            ],
            [
             0.4444444444444444,
             "#bd3786"
            ],
            [
             0.5555555555555556,
             "#d8576b"
            ],
            [
             0.6666666666666666,
             "#ed7953"
            ],
            [
             0.7777777777777778,
             "#fb9f3a"
            ],
            [
             0.8888888888888888,
             "#fdca26"
            ],
            [
             1,
             "#f0f921"
            ]
           ]
          },
          "colorway": [
           "#636efa",
           "#EF553B",
           "#00cc96",
           "#ab63fa",
           "#FFA15A",
           "#19d3f3",
           "#FF6692",
           "#B6E880",
           "#FF97FF",
           "#FECB52"
          ],
          "font": {
           "color": "#2a3f5f"
          },
          "geo": {
           "bgcolor": "white",
           "lakecolor": "white",
           "landcolor": "white",
           "showlakes": true,
           "showland": true,
           "subunitcolor": "#C8D4E3"
          },
          "hoverlabel": {
           "align": "left"
          },
          "hovermode": "closest",
          "mapbox": {
           "style": "light"
          },
          "paper_bgcolor": "white",
          "plot_bgcolor": "white",
          "polar": {
           "angularaxis": {
            "gridcolor": "#EBF0F8",
            "linecolor": "#EBF0F8",
            "ticks": ""
           },
           "bgcolor": "white",
           "radialaxis": {
            "gridcolor": "#EBF0F8",
            "linecolor": "#EBF0F8",
            "ticks": ""
           }
          },
          "scene": {
           "xaxis": {
            "backgroundcolor": "white",
            "gridcolor": "#DFE8F3",
            "gridwidth": 2,
            "linecolor": "#EBF0F8",
            "showbackground": true,
            "ticks": "",
            "zerolinecolor": "#EBF0F8"
           },
           "yaxis": {
            "backgroundcolor": "white",
            "gridcolor": "#DFE8F3",
            "gridwidth": 2,
            "linecolor": "#EBF0F8",
            "showbackground": true,
            "ticks": "",
            "zerolinecolor": "#EBF0F8"
           },
           "zaxis": {
            "backgroundcolor": "white",
            "gridcolor": "#DFE8F3",
            "gridwidth": 2,
            "linecolor": "#EBF0F8",
            "showbackground": true,
            "ticks": "",
            "zerolinecolor": "#EBF0F8"
           }
          },
          "shapedefaults": {
           "line": {
            "color": "#2a3f5f"
           }
          },
          "ternary": {
           "aaxis": {
            "gridcolor": "#DFE8F3",
            "linecolor": "#A2B1C6",
            "ticks": ""
           },
           "baxis": {
            "gridcolor": "#DFE8F3",
            "linecolor": "#A2B1C6",
            "ticks": ""
           },
           "bgcolor": "white",
           "caxis": {
            "gridcolor": "#DFE8F3",
            "linecolor": "#A2B1C6",
            "ticks": ""
           }
          },
          "title": {
           "x": 0.05
          },
          "xaxis": {
           "automargin": true,
           "gridcolor": "#EBF0F8",
           "linecolor": "#EBF0F8",
           "ticks": "",
           "title": {
            "standoff": 15
           },
           "zerolinecolor": "#EBF0F8",
           "zerolinewidth": 2
          },
          "yaxis": {
           "automargin": true,
           "gridcolor": "#EBF0F8",
           "linecolor": "#EBF0F8",
           "ticks": "",
           "title": {
            "standoff": 15
           },
           "zerolinecolor": "#EBF0F8",
           "zerolinewidth": 2
          }
         }
        },
        "title": {
         "text": "Fitted Beta Mixture Model vs. Original Data"
        },
        "xaxis": {
         "title": {
          "text": "Value (e.g., PD Score)"
         }
        },
        "yaxis": {
         "title": {
          "text": "Density"
         }
        }
       }
      }
     },
     "metadata": {},
     "output_type": "display_data"
    }
   ],
   "source": [
    "# Create a range of x-values for plotting the PDF\n",
    "x_plot = np.linspace(0, 1, 1000)\n",
    "\n",
    "# Calculate the PDF for each component\n",
    "pdf1 = beta.pdf(x_plot, fitter.alphas_[0], fitter.betas_[0])\n",
    "pdf2 = beta.pdf(x_plot, fitter.alphas_[1], fitter.betas_[1])\n",
    "\n",
    "# Calculate the combined PDF of the mixture model\n",
    "combined_pdf = (fitter.weights_[0] * pdf1) + (fitter.weights_[1] * pdf2)\n",
    "\n",
    "# Create the plot\n",
    "fig = go.Figure()\n",
    "\n",
    "# 1. Add the histogram of the original data\n",
    "fig.add_trace(go.Histogram(\n",
    "    x=synthetic_data,\n",
    "    name='Synthetic Data',\n",
    "    histnorm='probability density', # Normalize to compare with PDF\n",
    "    marker_color='#a9d1f7',\n",
    "    opacity=0.7\n",
    "))\n",
    "\n",
    "# 2. Add the combined PDF of the fitted model\n",
    "fig.add_trace(go.Scatter(\n",
    "    x=x_plot, \n",
    "    y=combined_pdf, \n",
    "    name='Fitted Mixture PDF',\n",
    "    line=dict(color='navy', width=3)\n",
    "))\n",
    "\n",
    "# 3. (Optional) Add the individual component PDFs\n",
    "fig.add_trace(go.Scatter(\n",
    "    x=x_plot, \n",
    "    y=fitter.weights_[0] * pdf1, \n",
    "    name='Component 1 PDF',\n",
    "    line=dict(color='red', dash='dash')\n",
    "))\n",
    "fig.add_trace(go.Scatter(\n",
    "    x=x_plot, \n",
    "    y=fitter.weights_[1] * pdf2, \n",
    "    name='Component 2 PDF',\n",
    "    line=dict(color='green', dash='dash')\n",
    "))\n",
    "\n",
    "# Update layout\n",
    "fig.update_layout(\n",
    "    title_text='Fitted Beta Mixture Model vs. Original Data',\n",
    "    xaxis_title='Value (e.g., PD Score)',\n",
    "    yaxis_title='Density',\n",
    "    legend_title='Components',\n",
    "    template='plotly_white'\n",
    ")\n",
    "\n",
    "fig.show()"
   ]
  }
 ],
 "metadata": {
  "kernelspec": {
   "display_name": ".venv",
   "language": "python",
   "name": "python3"
  },
  "language_info": {
   "codemirror_mode": {
    "name": "ipython",
    "version": 3
   },
   "file_extension": ".py",
   "mimetype": "text/x-python",
   "name": "python",
   "nbconvert_exporter": "python",
   "pygments_lexer": "ipython3",
   "version": "3.13.7"
  }
 },
 "nbformat": 4,
 "nbformat_minor": 5
}
