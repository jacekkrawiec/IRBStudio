{
 "cells": [
  {
   "cell_type": "code",
   "execution_count": null,
   "id": "8515b494",
   "metadata": {},
   "outputs": [],
   "source": [
    "# Example user workflow for IRBStudio"
   ]
  }
 ],
 "metadata": {
  "language_info": {
   "name": "python"
  }
 },
 "nbformat": 4,
 "nbformat_minor": 5
}
